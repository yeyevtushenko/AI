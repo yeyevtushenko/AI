{
  "nbformat": 4,
  "nbformat_minor": 0,
  "metadata": {
    "colab": {
      "provenance": [],
      "gpuType": "T4",
      "include_colab_link": true
    },
    "kernelspec": {
      "name": "python3",
      "display_name": "Python 3"
    },
    "language_info": {
      "name": "python"
    },
    "accelerator": "GPU"
  },
  "cells": [
    {
      "cell_type": "markdown",
      "metadata": {
        "id": "view-in-github",
        "colab_type": "text"
      },
      "source": [
        "<a href=\"https://colab.research.google.com/github/yeyevtushenko/AI/blob/Lesson25.03.2024/Lesson25_03_2024_AI_P_10.ipynb\" target=\"_parent\"><img src=\"https://colab.research.google.com/assets/colab-badge.svg\" alt=\"Open In Colab\"/></a>"
      ]
    },
    {
      "cell_type": "markdown",
      "source": [
        "Імпорт модулів"
      ],
      "metadata": {
        "id": "ZnHVsAJ_5Py3"
      }
    },
    {
      "cell_type": "code",
      "execution_count": 3,
      "metadata": {
        "id": "yJf_g69N5LP6"
      },
      "outputs": [],
      "source": [
        "import torch\n",
        "import numpy as np"
      ]
    },
    {
      "cell_type": "markdown",
      "source": [
        "# Завдання 1\n",
        "\n",
        "Перегляньте інформацію про доступні процесори, та виведіть про них інформацію"
      ],
      "metadata": {
        "id": "pRkcTmfh6jCX"
      }
    },
    {
      "cell_type": "code",
      "source": [
        "print(torch.cuda.is_available())\n",
        "\n",
        "if torch.cuda.is_available():\n",
        "    print(torch.cuda.device_count())\n",
        "    print(torch.cuda.get_device_name(0))\n",
        "\n",
        "tensor = torch.tensor([1, 2, 3])\n",
        "print(tensor.device)"
      ],
      "metadata": {
        "id": "W5yEGTcV6zHy",
        "outputId": "096dbc5a-09fa-4ce6-a8dd-41f4bcd546c7",
        "colab": {
          "base_uri": "https://localhost:8080/"
        }
      },
      "execution_count": 4,
      "outputs": [
        {
          "output_type": "stream",
          "name": "stdout",
          "text": [
            "True\n",
            "1\n",
            "Tesla T4\n",
            "cpu\n"
          ]
        }
      ]
    },
    {
      "cell_type": "markdown",
      "source": [
        "# Завдання 2\n",
        "Підключіть colab до процесора GPU, та знову виведіть інформацію про доступні процесори"
      ],
      "metadata": {
        "id": "xTLIVYQg6z5G"
      }
    },
    {
      "cell_type": "code",
      "source": [
        "device = torch.device('cuda' if torch.cuda.is_available() else 'cpu')\n",
        "\n",
        "tensor = torch.tensor([1, 2, 3])\n",
        "tensor = tensor.to(device)\n",
        "\n",
        "tensor"
      ],
      "metadata": {
        "id": "iVPWDF2D8dAM",
        "outputId": "d5a83e21-85be-4a13-de28-a6846e581fba",
        "colab": {
          "base_uri": "https://localhost:8080/"
        }
      },
      "execution_count": 5,
      "outputs": [
        {
          "output_type": "execute_result",
          "data": {
            "text/plain": [
              "tensor([1, 2, 3], device='cuda:0')"
            ]
          },
          "metadata": {},
          "execution_count": 5
        }
      ]
    },
    {
      "cell_type": "code",
      "source": [
        "device"
      ],
      "metadata": {
        "id": "NUfaYZ-24iM5",
        "outputId": "68012759-dfab-437a-ea4f-a3cf4e5b11c0",
        "colab": {
          "base_uri": "https://localhost:8080/"
        }
      },
      "execution_count": 6,
      "outputs": [
        {
          "output_type": "execute_result",
          "data": {
            "text/plain": [
              "device(type='cuda')"
            ]
          },
          "metadata": {},
          "execution_count": 6
        }
      ]
    },
    {
      "cell_type": "code",
      "source": [
        "tensor = torch.tensor([1, 2, 3], device=device)\n",
        "tensor"
      ],
      "metadata": {
        "id": "f5nNIodi4qQV",
        "outputId": "85b1a1ff-6cc8-43d2-9446-586d9e1626f3",
        "colab": {
          "base_uri": "https://localhost:8080/"
        }
      },
      "execution_count": 7,
      "outputs": [
        {
          "output_type": "execute_result",
          "data": {
            "text/plain": [
              "tensor([1, 2, 3], device='cuda:0')"
            ]
          },
          "metadata": {},
          "execution_count": 7
        }
      ]
    },
    {
      "cell_type": "markdown",
      "source": [
        "# Завдання 3\n",
        "Створіть випадковий тензор розміру (2, 3). Виведіть інформацію про його:\n",
        "\n",
        "* розмір\n",
        "* тип даних\n",
        "* процесор\n",
        "* наявність градієнта"
      ],
      "metadata": {
        "id": "OkMil6fb7AiX"
      }
    },
    {
      "cell_type": "code",
      "source": [
        "tensor = torch.randn(2, 3)\n",
        "\n",
        "print(tensor.shape)\n",
        "print(tensor.dtype)\n",
        "print(tensor.device)\n",
        "print(tensor.requires_grad)"
      ],
      "metadata": {
        "id": "ih3MeOto8yrO",
        "outputId": "97e2abae-d26c-4b7d-9ee4-3cbe9c88158f",
        "colab": {
          "base_uri": "https://localhost:8080/"
        }
      },
      "execution_count": 8,
      "outputs": [
        {
          "output_type": "stream",
          "name": "stdout",
          "text": [
            "torch.Size([2, 3])\n",
            "torch.float32\n",
            "cpu\n",
            "False\n"
          ]
        }
      ]
    },
    {
      "cell_type": "markdown",
      "source": [
        "# Завдання 4\n",
        "\n",
        "Створіть 2 тензора розміру 100. Використовуючи лише модуль `torch` обрахуйте середьню абсолютну похибку(mae) між ними. Виведіть результат як число"
      ],
      "metadata": {
        "id": "nNrrplv_9Vha"
      }
    },
    {
      "cell_type": "code",
      "source": [
        "tensor1 = torch.rand(100)\n",
        "tensor2 = torch.rand(100)\n",
        "\n",
        "mae = torch.abs(tensor1 - tensor2).mean()\n",
        "\n",
        "print(mae.item())"
      ],
      "metadata": {
        "id": "HybhfrBT9wT5",
        "outputId": "f12fc099-60ef-4e9e-c76f-abb70c64c76f",
        "colab": {
          "base_uri": "https://localhost:8080/"
        }
      },
      "execution_count": 9,
      "outputs": [
        {
          "output_type": "stream",
          "name": "stdout",
          "text": [
            "0.33104023337364197\n"
          ]
        }
      ]
    },
    {
      "cell_type": "markdown",
      "source": [
        "# Завдання 5\n",
        "\n",
        "Створіть 3 випадкових тензора з розмірами:\n",
        "* 32х28х28\n",
        "* 16х28х28\n",
        "* 64х28х28\n",
        "\n",
        "Об'єднайте їх по першій розмірності. Результат має мати розмір 112х28х28"
      ],
      "metadata": {
        "id": "JoU54G199w5-"
      }
    },
    {
      "cell_type": "code",
      "source": [
        "tensor1 = torch.randn(32, 28, 28)\n",
        "tensor2 = torch.randn(16, 28, 28)\n",
        "tensor3 = torch.randn(64, 28, 28)\n",
        "\n",
        "result = torch.cat((tensor1, tensor2, tensor3), dim=0)\n",
        "\n",
        "print(result)\n",
        "print(result.size())"
      ],
      "metadata": {
        "id": "Ar7NOowB-NBn",
        "outputId": "cea8b2a3-a291-4c66-c7fd-b5106d6a16ac",
        "colab": {
          "base_uri": "https://localhost:8080/"
        }
      },
      "execution_count": 10,
      "outputs": [
        {
          "output_type": "stream",
          "name": "stdout",
          "text": [
            "tensor([[[-0.6196,  0.8825, -0.0675,  ...,  0.7228, -0.2446,  2.8259],\n",
            "         [ 0.7996, -0.4556,  0.2477,  ...,  1.2656, -0.8360, -2.4361],\n",
            "         [ 0.6955,  0.5523, -0.2240,  ...,  0.3017, -0.8333,  1.6050],\n",
            "         ...,\n",
            "         [ 0.0413, -0.7741,  0.0572,  ...,  1.1188, -1.4262, -1.8259],\n",
            "         [-0.1606, -0.3016,  0.6443,  ..., -2.5742,  1.0064, -0.0348],\n",
            "         [ 0.3657, -0.0116, -1.4232,  ..., -0.6029,  1.4002, -0.8172]],\n",
            "\n",
            "        [[ 0.6099, -0.4484, -0.4292,  ..., -1.4875,  0.2811, -0.3779],\n",
            "         [ 0.3471,  0.4587,  1.2685,  ...,  0.3561, -1.9851,  2.4632],\n",
            "         [ 0.2953,  0.4805, -0.3016,  ...,  0.0174,  1.1410, -0.3775],\n",
            "         ...,\n",
            "         [ 1.5791, -0.0678, -0.0371,  ...,  1.0684, -1.1546, -0.9660],\n",
            "         [-0.8337,  0.5553, -1.1029,  ..., -0.6275, -0.5089, -0.3028],\n",
            "         [-0.5590,  1.5035,  1.6443,  ..., -1.1660, -0.2314,  0.8783]],\n",
            "\n",
            "        [[-0.5506,  1.2499, -1.0487,  ..., -1.0045, -0.1395, -2.1279],\n",
            "         [ 1.1020, -2.6740,  1.0957,  ..., -0.4975, -0.6589, -0.4762],\n",
            "         [-0.8797,  0.4548,  1.9032,  ...,  1.4694, -0.1771, -0.8361],\n",
            "         ...,\n",
            "         [ 0.7121, -0.0102,  0.9648,  ..., -0.3115, -1.0326,  0.0109],\n",
            "         [ 1.0529,  0.8564,  0.1272,  ...,  0.5254, -0.6025, -2.0665],\n",
            "         [ 0.1928, -0.2612,  1.3693,  ...,  0.4723, -0.0134,  1.4677]],\n",
            "\n",
            "        ...,\n",
            "\n",
            "        [[-1.6712,  1.3111,  1.7190,  ..., -0.6263,  0.3997, -0.2944],\n",
            "         [ 2.2011,  0.6144, -1.1598,  ..., -0.1800,  1.8736,  1.6147],\n",
            "         [-1.3995,  0.1556, -0.4351,  ..., -2.2502,  0.9315, -1.2471],\n",
            "         ...,\n",
            "         [-0.4378, -0.0265, -1.9228,  ...,  0.9224, -2.2989,  0.2967],\n",
            "         [ 0.0798,  0.1402, -0.3147,  ...,  2.5131,  2.6051, -1.0431],\n",
            "         [ 1.8048, -0.7374,  0.0206,  ...,  0.8237,  1.1185,  0.9970]],\n",
            "\n",
            "        [[-1.1330, -0.0589, -0.6952,  ...,  0.0811,  0.4434, -0.4139],\n",
            "         [-1.8258,  1.8146, -0.2408,  ...,  1.8038,  2.3261,  0.6276],\n",
            "         [ 1.8445,  0.8816,  0.8250,  ..., -0.6831, -0.1109,  0.0286],\n",
            "         ...,\n",
            "         [ 1.0701, -0.4094,  1.1079,  ...,  0.8302, -0.0774, -0.9186],\n",
            "         [ 0.4937, -1.5188,  1.6193,  ...,  0.4846,  1.0284,  0.1666],\n",
            "         [ 0.3660, -0.3295, -0.2604,  ...,  1.6583,  0.1544,  0.4390]],\n",
            "\n",
            "        [[-1.5500,  0.4891, -0.5555,  ..., -1.3578, -0.6998,  1.2516],\n",
            "         [ 0.5177,  1.1556, -2.2219,  ...,  0.3440,  0.1838, -0.1658],\n",
            "         [ 0.9438, -0.3481,  0.8827,  ..., -0.3289, -0.6601, -1.3311],\n",
            "         ...,\n",
            "         [ 0.1347,  1.0716, -1.7516,  ..., -0.2325,  0.5520,  0.6312],\n",
            "         [-0.1171,  0.1605, -0.4343,  ...,  0.1797, -0.0185,  1.2950],\n",
            "         [ 0.8944,  0.9457,  0.1605,  ..., -0.7301, -0.4875,  0.4730]]])\n",
            "torch.Size([112, 28, 28])\n"
          ]
        }
      ]
    },
    {
      "cell_type": "markdown",
      "source": [
        "# Завдання 6\n",
        "Застосуйте метод градієнтного спуску для функції"
      ],
      "metadata": {
        "id": "8v4erUf8-Tnn"
      }
    },
    {
      "cell_type": "code",
      "source": [
        "def f(x):\n",
        "  return x**2/3 + torch.sin(torch.pi*x)"
      ],
      "metadata": {
        "id": "c89FE7vc-aWy"
      },
      "execution_count": 11,
      "outputs": []
    },
    {
      "cell_type": "code",
      "source": [
        "device = \"cuda\" if torch.cuda.is_available() else \"cpu\"\n",
        "torch.set_default_device(device)\n",
        "\n",
        "\n",
        "x = torch.tensor(2.0, requires_grad=True)\n",
        "\n",
        "learning_rate = 1e-3\n",
        "\n",
        "for t in range(2000):\n",
        "    loss = f(x)\n",
        "\n",
        "    loss.backward()\n",
        "\n",
        "    if t % 100 == 0:\n",
        "      print(f'{loss.item()=}')\n",
        "\n",
        "    with torch.no_grad():\n",
        "\n",
        "      x -= learning_rate*x.grad\n",
        "\n",
        "      x.grad = None"
      ],
      "metadata": {
        "id": "ncWDue-l5lDI",
        "outputId": "10134ffa-7cd3-485d-bcb7-24cfa791d639",
        "colab": {
          "base_uri": "https://localhost:8080/"
        }
      },
      "execution_count": 12,
      "outputs": [
        {
          "output_type": "stream",
          "name": "stdout",
          "text": [
            "loss.item()=1.3333334922790527\n",
            "loss.item()=-0.012307047843933105\n",
            "loss.item()=-0.26274728775024414\n",
            "loss.item()=-0.2934073805809021\n",
            "loss.item()=-0.29722774028778076\n",
            "loss.item()=-0.29771918058395386\n",
            "loss.item()=-0.2977832555770874\n",
            "loss.item()=-0.29779165983200073\n",
            "loss.item()=-0.29779279232025146\n",
            "loss.item()=-0.297792911529541\n",
            "loss.item()=-0.297792911529541\n",
            "loss.item()=-0.29779303073883057\n",
            "loss.item()=-0.29779285192489624\n",
            "loss.item()=-0.29779285192489624\n",
            "loss.item()=-0.29779285192489624\n",
            "loss.item()=-0.29779285192489624\n",
            "loss.item()=-0.29779285192489624\n",
            "loss.item()=-0.29779285192489624\n",
            "loss.item()=-0.29779285192489624\n",
            "loss.item()=-0.29779285192489624\n"
          ]
        }
      ]
    },
    {
      "cell_type": "markdown",
      "source": [
        "# Завдання 7\n",
        "Застосуйте метод градієнтного спуску для функції. Мінімум функції рівний 0"
      ],
      "metadata": {
        "id": "UjHK74ES-iuO"
      }
    },
    {
      "cell_type": "code",
      "source": [
        "def f1(x, y):\n",
        "  # функція Швефеля\n",
        "  return  418.9829*2 - x*torch.sin(x.abs().sqrt()) - y*torch.sin(y.abs().sqrt())\n",
        "\n",
        "def f2(x, y):\n",
        "  # трьохгорбна функція\n",
        "  return 2*x**2  - 1.05*x**4 + 1/6*x**6 + x*y  + y**2\n",
        "\n",
        "def f3(x, y):\n",
        "  # функція птах\n",
        "  return 106.7645 + torch.sin(x)*torch.exp((1-torch.cos(y))**2) + \\\n",
        "  torch.cos(y)*torch.exp((1-torch.sin(x))**2) + \\\n",
        "  (x-y)**2"
      ],
      "metadata": {
        "id": "vRD515Ik_xM-"
      },
      "execution_count": 13,
      "outputs": []
    },
    {
      "cell_type": "code",
      "source": [
        "def gr(f, learning_rate=1e-3):\n",
        "  device = \"cuda\" if torch.cuda.is_available() else \"cpu\"\n",
        "  torch.set_default_device(device)\n",
        "\n",
        "  x = torch.tensor(6.0, requires_grad=True, device=device)\n",
        "  y = torch.tensor(6.0, requires_grad=True, device=device)\n",
        "\n",
        "  for t in range(2000):\n",
        "      loss = f(x,y)\n",
        "\n",
        "      loss.backward()\n",
        "\n",
        "      #if t % 100 == 0:\n",
        "        #print(f'{loss.item()=}')\n",
        "\n",
        "      with torch.no_grad():\n",
        "\n",
        "        x -= learning_rate*x.grad\n",
        "\n",
        "        x.grad = None\n",
        "\n",
        "        y -= learning_rate*y.grad\n",
        "\n",
        "        y.grad = None\n",
        "\n",
        "  return x.item(), y.item(), loss.item()"
      ],
      "metadata": {
        "id": "j2RaZh9E-oyK"
      },
      "execution_count": 14,
      "outputs": []
    },
    {
      "cell_type": "code",
      "source": [
        "gr(f1)"
      ],
      "metadata": {
        "id": "uLcomATH61Lg",
        "outputId": "70f2bbda-c263-4e59-d655-b56bbfbd7f4a",
        "colab": {
          "base_uri": "https://localhost:8080/"
        }
      },
      "execution_count": 15,
      "outputs": [
        {
          "output_type": "execute_result",
          "data": {
            "text/plain": [
              "(5.579611778259277, 5.579611778259277, 830.1219482421875)"
            ]
          },
          "metadata": {},
          "execution_count": 15
        }
      ]
    },
    {
      "cell_type": "code",
      "source": [
        "gr(f2,1e-3)"
      ],
      "metadata": {
        "id": "7kCK1_WH7Uys",
        "outputId": "f7e3a0b5-b486-4fd3-e2f7-22c47d2b374d",
        "colab": {
          "base_uri": "https://localhost:8080/"
        }
      },
      "execution_count": 16,
      "outputs": [
        {
          "output_type": "execute_result",
          "data": {
            "text/plain": [
              "(-1.757537841796875, 0.9799004793167114, 0.3094998598098755)"
            ]
          },
          "metadata": {},
          "execution_count": 16
        }
      ]
    },
    {
      "cell_type": "code",
      "source": [
        "gr(f3)"
      ],
      "metadata": {
        "id": "KlJr_C0A7YSH",
        "outputId": "6b04cc23-187f-4152-a0e3-907b6b32b28c",
        "colab": {
          "base_uri": "https://localhost:8080/"
        }
      },
      "execution_count": 17,
      "outputs": [
        {
          "output_type": "execute_result",
          "data": {
            "text/plain": [
              "(6.871952533721924, 7.049767017364502, 108.27448272705078)"
            ]
          },
          "metadata": {},
          "execution_count": 17
        }
      ]
    }
  ]
}