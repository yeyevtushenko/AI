{
  "nbformat": 4,
  "nbformat_minor": 0,
  "metadata": {
    "colab": {
      "provenance": [],
      "include_colab_link": true
    },
    "kernelspec": {
      "name": "python3",
      "display_name": "Python 3"
    },
    "language_info": {
      "name": "python"
    }
  },
  "cells": [
    {
      "cell_type": "markdown",
      "metadata": {
        "id": "view-in-github",
        "colab_type": "text"
      },
      "source": [
        "<a href=\"https://colab.research.google.com/github/yeyevtushenko/AI/blob/Lesson22.04.2024/Lesson22_04_2024_AI_H_18.ipynb\" target=\"_parent\"><img src=\"https://colab.research.google.com/assets/colab-badge.svg\" alt=\"Open In Colab\"/></a>"
      ]
    },
    {
      "cell_type": "markdown",
      "source": [
        "# Завдання 1\n",
        "Напишіть функцію, яка повертає список фраз з тексту, які відповідають певному шоблону. При необхідності можете добавити власні параметри.\n",
        "\n",
        "Протестуйте функцію на якомусь тексті."
      ],
      "metadata": {
        "id": "D56Rwjf4EXC_"
      }
    },
    {
      "cell_type": "code",
      "source": [
        "import nltk\n",
        "from nltk.tokenize import sent_tokenize, word_tokenize\n",
        "from nltk import pos_tag\n",
        "from nltk.chunk import RegexpParser\n",
        "\n",
        "nltk.download('punkt')\n",
        "nltk.download('averaged_perceptron_tagger')\n",
        "\n",
        "def get_phrases(text, regex, tag_name):\n",
        "    \"\"\"\n",
        "    Return list of phrases from text that matches regex.\n",
        "\n",
        "    Params:\n",
        "        text: str - original text\n",
        "        regex: str - regular expression\n",
        "        tag_name: str - tag name that is used in nltk tree\n",
        "\n",
        "    Return:\n",
        "        phrases: list[str] - list of phrases\n",
        "    \"\"\"\n",
        "\n",
        "    sentences = sent_tokenize(text)\n",
        "    phrases = []\n",
        "\n",
        "    grammar = f\"{tag_name}: {{ {regex} }}\"\n",
        "\n",
        "    cp = RegexpParser(grammar)\n",
        "\n",
        "    for sentence in sentences:\n",
        "        tokens = word_tokenize(sentence)\n",
        "        tagged_tokens = pos_tag(tokens)\n",
        "\n",
        "        tree = cp.parse(tagged_tokens)\n",
        "\n",
        "        for subtree in tree.subtrees():\n",
        "            if subtree.label() == tag_name:\n",
        "                phrase = \" \".join(word for word, tag in subtree.leaves())\n",
        "                phrases.append(phrase)\n",
        "\n",
        "    return phrases\n",
        "\n",
        "text = \"\"\"\n",
        "Mrs Pig was very tired: 'Oh dear,' she said to her three little pigs, 'I can’t do this work anymore, I’m afraid you must leave home and make your own way in the world.' So the three little pigs set off.\n",
        "\n",
        "The first little pig met a man carrying a bundle of straw.\n",
        "\n",
        "'Excuse me,' said the first little pig politely. 'Would you please sell some of your straw so I can make a house?'\n",
        "\n",
        "The man readily agreed and the first little pig went off to find a good place to build his house.\n",
        "\n",
        "The other little pigs carried on along the road and, soon, they met a man carrying a bundle of sticks.\n",
        "\n",
        "'Excuse me,' said the little pig politely. 'Would you please sell me some sticks so I can build a house?'\n",
        "\n",
        "The man readily agreed and the little pig said goodbye to his brother.\n",
        "\n",
        "The third little pig didn’t think much of their ideas:\n",
        "\n",
        "'I’m going to build myself a much bigger, better, stronger house,' he thought, and he carried off down the road until he met a man with a cart load of bricks.\n",
        "\n",
        "'Excuse me,' said the third little pig, as politely as his mother had taught him. 'Please can you sell me some bricks so I can build a house?'\n",
        "\n",
        "'Of course,' said the man. 'Where would you like me to unload them?'\n",
        "\n",
        "The third little pig looked around and saw a nice patch of ground under a tree.\n",
        "\n",
        "'Over there,' he pointed.\n",
        "\"\"\"\n",
        "\n",
        "regex = '<JJ> <NN>'\n",
        "tag_name = 'AN'\n",
        "phrases = get_phrases(text, regex, tag_name)\n",
        "\n",
        "print(\"Phrases matching the pattern:\", phrases)\n"
      ],
      "metadata": {
        "id": "G4Stff_zFQjv",
        "outputId": "c88fc198-de69-4d03-e15e-09d0fe85d9b4",
        "colab": {
          "base_uri": "https://localhost:8080/"
        }
      },
      "execution_count": 3,
      "outputs": [
        {
          "output_type": "stream",
          "name": "stdout",
          "text": [
            "Phrases matching the pattern: ['own way', 'little pig', 'little pig', 'little pig', 'good place', 'little pig', 'little pig', 'little pig', 'cart load', 'little pig', \"'Of course\", 'little pig', 'nice patch']\n"
          ]
        },
        {
          "output_type": "stream",
          "name": "stderr",
          "text": [
            "[nltk_data] Downloading package punkt to /root/nltk_data...\n",
            "[nltk_data]   Package punkt is already up-to-date!\n",
            "[nltk_data] Downloading package averaged_perceptron_tagger to\n",
            "[nltk_data]     /root/nltk_data...\n",
            "[nltk_data]   Package averaged_perceptron_tagger is already up-to-\n",
            "[nltk_data]       date!\n"
          ]
        }
      ]
    }
  ]
}