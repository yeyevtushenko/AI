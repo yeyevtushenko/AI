{
  "nbformat": 4,
  "nbformat_minor": 0,
  "metadata": {
    "colab": {
      "provenance": [],
      "include_colab_link": true
    },
    "kernelspec": {
      "name": "python3",
      "display_name": "Python 3"
    },
    "language_info": {
      "name": "python"
    }
  },
  "cells": [
    {
      "cell_type": "markdown",
      "metadata": {
        "id": "view-in-github",
        "colab_type": "text"
      },
      "source": [
        "<a href=\"https://colab.research.google.com/github/yeyevtushenko/AI/blob/Lesson01.04.2024/Lesson01_04_2024_AI_P_12.ipynb\" target=\"_parent\"><img src=\"https://colab.research.google.com/assets/colab-badge.svg\" alt=\"Open In Colab\"/></a>"
      ]
    },
    {
      "cell_type": "markdown",
      "source": [
        "Імпорт модулів"
      ],
      "metadata": {
        "id": "w1r0k1UheNCz"
      }
    },
    {
      "cell_type": "code",
      "execution_count": 3,
      "metadata": {
        "id": "4XxgJqCDoExm"
      },
      "outputs": [],
      "source": [
        "import pandas as pd\n",
        "import torch"
      ]
    },
    {
      "cell_type": "code",
      "source": [
        "device = \"cuda\" if torch.cuda.is_available() else \"cpu\"\n",
        "torch.set_default_device(device)"
      ],
      "metadata": {
        "id": "TO1DuA0hv9z-"
      },
      "execution_count": 4,
      "outputs": []
    },
    {
      "cell_type": "markdown",
      "source": [
        "Дані про діабет"
      ],
      "metadata": {
        "id": "Kpk2KycTeQEE"
      }
    },
    {
      "cell_type": "code",
      "source": [
        "# трохи обробки даних\n",
        "df = pd.read_csv('https://raw.githubusercontent.com/HalyshAnton/IT-Step-Pyton-AI/main/module3/data/Healthcare-Diabetes.csv',\n",
        "                 index_col='Id')\n",
        "\n",
        "columns = df.columns.delete(-1)\n",
        "data = df[columns]\n",
        "df[columns] = (data - data.min()) / (data.max() - data.min())"
      ],
      "metadata": {
        "id": "926S2f5pdnH6"
      },
      "execution_count": 5,
      "outputs": []
    },
    {
      "cell_type": "code",
      "source": [
        "df.head()"
      ],
      "metadata": {
        "colab": {
          "base_uri": "https://localhost:8080/",
          "height": 235
        },
        "id": "eG6_dawddqwd",
        "outputId": "f757f540-cb8f-428c-b5cc-e9dec824b8f6"
      },
      "execution_count": 6,
      "outputs": [
        {
          "output_type": "execute_result",
          "data": {
            "text/plain": [
              "    Pregnancies   Glucose  BloodPressure  SkinThickness   Insulin       BMI  \\\n",
              "Id                                                                            \n",
              "1      0.352941  0.743719       0.590164       0.318182  0.000000  0.416873   \n",
              "2      0.058824  0.427136       0.540984       0.263636  0.000000  0.330025   \n",
              "3      0.470588  0.919598       0.524590       0.000000  0.000000  0.289082   \n",
              "4      0.058824  0.447236       0.540984       0.209091  0.111111  0.348635   \n",
              "5      0.000000  0.688442       0.327869       0.318182  0.198582  0.534739   \n",
              "\n",
              "    DiabetesPedigreeFunction       Age  Outcome  \n",
              "Id                                               \n",
              "1                   0.234415  0.483333        1  \n",
              "2                   0.116567  0.166667        0  \n",
              "3                   0.253629  0.183333        1  \n",
              "4                   0.038002  0.000000        0  \n",
              "5                   0.943638  0.200000        1  "
            ],
            "text/html": [
              "\n",
              "  <div id=\"df-5541549f-90f8-4900-b76e-1ff218b9d7bc\" class=\"colab-df-container\">\n",
              "    <div>\n",
              "<style scoped>\n",
              "    .dataframe tbody tr th:only-of-type {\n",
              "        vertical-align: middle;\n",
              "    }\n",
              "\n",
              "    .dataframe tbody tr th {\n",
              "        vertical-align: top;\n",
              "    }\n",
              "\n",
              "    .dataframe thead th {\n",
              "        text-align: right;\n",
              "    }\n",
              "</style>\n",
              "<table border=\"1\" class=\"dataframe\">\n",
              "  <thead>\n",
              "    <tr style=\"text-align: right;\">\n",
              "      <th></th>\n",
              "      <th>Pregnancies</th>\n",
              "      <th>Glucose</th>\n",
              "      <th>BloodPressure</th>\n",
              "      <th>SkinThickness</th>\n",
              "      <th>Insulin</th>\n",
              "      <th>BMI</th>\n",
              "      <th>DiabetesPedigreeFunction</th>\n",
              "      <th>Age</th>\n",
              "      <th>Outcome</th>\n",
              "    </tr>\n",
              "    <tr>\n",
              "      <th>Id</th>\n",
              "      <th></th>\n",
              "      <th></th>\n",
              "      <th></th>\n",
              "      <th></th>\n",
              "      <th></th>\n",
              "      <th></th>\n",
              "      <th></th>\n",
              "      <th></th>\n",
              "      <th></th>\n",
              "    </tr>\n",
              "  </thead>\n",
              "  <tbody>\n",
              "    <tr>\n",
              "      <th>1</th>\n",
              "      <td>0.352941</td>\n",
              "      <td>0.743719</td>\n",
              "      <td>0.590164</td>\n",
              "      <td>0.318182</td>\n",
              "      <td>0.000000</td>\n",
              "      <td>0.416873</td>\n",
              "      <td>0.234415</td>\n",
              "      <td>0.483333</td>\n",
              "      <td>1</td>\n",
              "    </tr>\n",
              "    <tr>\n",
              "      <th>2</th>\n",
              "      <td>0.058824</td>\n",
              "      <td>0.427136</td>\n",
              "      <td>0.540984</td>\n",
              "      <td>0.263636</td>\n",
              "      <td>0.000000</td>\n",
              "      <td>0.330025</td>\n",
              "      <td>0.116567</td>\n",
              "      <td>0.166667</td>\n",
              "      <td>0</td>\n",
              "    </tr>\n",
              "    <tr>\n",
              "      <th>3</th>\n",
              "      <td>0.470588</td>\n",
              "      <td>0.919598</td>\n",
              "      <td>0.524590</td>\n",
              "      <td>0.000000</td>\n",
              "      <td>0.000000</td>\n",
              "      <td>0.289082</td>\n",
              "      <td>0.253629</td>\n",
              "      <td>0.183333</td>\n",
              "      <td>1</td>\n",
              "    </tr>\n",
              "    <tr>\n",
              "      <th>4</th>\n",
              "      <td>0.058824</td>\n",
              "      <td>0.447236</td>\n",
              "      <td>0.540984</td>\n",
              "      <td>0.209091</td>\n",
              "      <td>0.111111</td>\n",
              "      <td>0.348635</td>\n",
              "      <td>0.038002</td>\n",
              "      <td>0.000000</td>\n",
              "      <td>0</td>\n",
              "    </tr>\n",
              "    <tr>\n",
              "      <th>5</th>\n",
              "      <td>0.000000</td>\n",
              "      <td>0.688442</td>\n",
              "      <td>0.327869</td>\n",
              "      <td>0.318182</td>\n",
              "      <td>0.198582</td>\n",
              "      <td>0.534739</td>\n",
              "      <td>0.943638</td>\n",
              "      <td>0.200000</td>\n",
              "      <td>1</td>\n",
              "    </tr>\n",
              "  </tbody>\n",
              "</table>\n",
              "</div>\n",
              "    <div class=\"colab-df-buttons\">\n",
              "\n",
              "  <div class=\"colab-df-container\">\n",
              "    <button class=\"colab-df-convert\" onclick=\"convertToInteractive('df-5541549f-90f8-4900-b76e-1ff218b9d7bc')\"\n",
              "            title=\"Convert this dataframe to an interactive table.\"\n",
              "            style=\"display:none;\">\n",
              "\n",
              "  <svg xmlns=\"http://www.w3.org/2000/svg\" height=\"24px\" viewBox=\"0 -960 960 960\">\n",
              "    <path d=\"M120-120v-720h720v720H120Zm60-500h600v-160H180v160Zm220 220h160v-160H400v160Zm0 220h160v-160H400v160ZM180-400h160v-160H180v160Zm440 0h160v-160H620v160ZM180-180h160v-160H180v160Zm440 0h160v-160H620v160Z\"/>\n",
              "  </svg>\n",
              "    </button>\n",
              "\n",
              "  <style>\n",
              "    .colab-df-container {\n",
              "      display:flex;\n",
              "      gap: 12px;\n",
              "    }\n",
              "\n",
              "    .colab-df-convert {\n",
              "      background-color: #E8F0FE;\n",
              "      border: none;\n",
              "      border-radius: 50%;\n",
              "      cursor: pointer;\n",
              "      display: none;\n",
              "      fill: #1967D2;\n",
              "      height: 32px;\n",
              "      padding: 0 0 0 0;\n",
              "      width: 32px;\n",
              "    }\n",
              "\n",
              "    .colab-df-convert:hover {\n",
              "      background-color: #E2EBFA;\n",
              "      box-shadow: 0px 1px 2px rgba(60, 64, 67, 0.3), 0px 1px 3px 1px rgba(60, 64, 67, 0.15);\n",
              "      fill: #174EA6;\n",
              "    }\n",
              "\n",
              "    .colab-df-buttons div {\n",
              "      margin-bottom: 4px;\n",
              "    }\n",
              "\n",
              "    [theme=dark] .colab-df-convert {\n",
              "      background-color: #3B4455;\n",
              "      fill: #D2E3FC;\n",
              "    }\n",
              "\n",
              "    [theme=dark] .colab-df-convert:hover {\n",
              "      background-color: #434B5C;\n",
              "      box-shadow: 0px 1px 3px 1px rgba(0, 0, 0, 0.15);\n",
              "      filter: drop-shadow(0px 1px 2px rgba(0, 0, 0, 0.3));\n",
              "      fill: #FFFFFF;\n",
              "    }\n",
              "  </style>\n",
              "\n",
              "    <script>\n",
              "      const buttonEl =\n",
              "        document.querySelector('#df-5541549f-90f8-4900-b76e-1ff218b9d7bc button.colab-df-convert');\n",
              "      buttonEl.style.display =\n",
              "        google.colab.kernel.accessAllowed ? 'block' : 'none';\n",
              "\n",
              "      async function convertToInteractive(key) {\n",
              "        const element = document.querySelector('#df-5541549f-90f8-4900-b76e-1ff218b9d7bc');\n",
              "        const dataTable =\n",
              "          await google.colab.kernel.invokeFunction('convertToInteractive',\n",
              "                                                    [key], {});\n",
              "        if (!dataTable) return;\n",
              "\n",
              "        const docLinkHtml = 'Like what you see? Visit the ' +\n",
              "          '<a target=\"_blank\" href=https://colab.research.google.com/notebooks/data_table.ipynb>data table notebook</a>'\n",
              "          + ' to learn more about interactive tables.';\n",
              "        element.innerHTML = '';\n",
              "        dataTable['output_type'] = 'display_data';\n",
              "        await google.colab.output.renderOutput(dataTable, element);\n",
              "        const docLink = document.createElement('div');\n",
              "        docLink.innerHTML = docLinkHtml;\n",
              "        element.appendChild(docLink);\n",
              "      }\n",
              "    </script>\n",
              "  </div>\n",
              "\n",
              "\n",
              "<div id=\"df-8fc07b9b-23b5-4263-9be8-4877e3d8874a\">\n",
              "  <button class=\"colab-df-quickchart\" onclick=\"quickchart('df-8fc07b9b-23b5-4263-9be8-4877e3d8874a')\"\n",
              "            title=\"Suggest charts\"\n",
              "            style=\"display:none;\">\n",
              "\n",
              "<svg xmlns=\"http://www.w3.org/2000/svg\" height=\"24px\"viewBox=\"0 0 24 24\"\n",
              "     width=\"24px\">\n",
              "    <g>\n",
              "        <path d=\"M19 3H5c-1.1 0-2 .9-2 2v14c0 1.1.9 2 2 2h14c1.1 0 2-.9 2-2V5c0-1.1-.9-2-2-2zM9 17H7v-7h2v7zm4 0h-2V7h2v10zm4 0h-2v-4h2v4z\"/>\n",
              "    </g>\n",
              "</svg>\n",
              "  </button>\n",
              "\n",
              "<style>\n",
              "  .colab-df-quickchart {\n",
              "      --bg-color: #E8F0FE;\n",
              "      --fill-color: #1967D2;\n",
              "      --hover-bg-color: #E2EBFA;\n",
              "      --hover-fill-color: #174EA6;\n",
              "      --disabled-fill-color: #AAA;\n",
              "      --disabled-bg-color: #DDD;\n",
              "  }\n",
              "\n",
              "  [theme=dark] .colab-df-quickchart {\n",
              "      --bg-color: #3B4455;\n",
              "      --fill-color: #D2E3FC;\n",
              "      --hover-bg-color: #434B5C;\n",
              "      --hover-fill-color: #FFFFFF;\n",
              "      --disabled-bg-color: #3B4455;\n",
              "      --disabled-fill-color: #666;\n",
              "  }\n",
              "\n",
              "  .colab-df-quickchart {\n",
              "    background-color: var(--bg-color);\n",
              "    border: none;\n",
              "    border-radius: 50%;\n",
              "    cursor: pointer;\n",
              "    display: none;\n",
              "    fill: var(--fill-color);\n",
              "    height: 32px;\n",
              "    padding: 0;\n",
              "    width: 32px;\n",
              "  }\n",
              "\n",
              "  .colab-df-quickchart:hover {\n",
              "    background-color: var(--hover-bg-color);\n",
              "    box-shadow: 0 1px 2px rgba(60, 64, 67, 0.3), 0 1px 3px 1px rgba(60, 64, 67, 0.15);\n",
              "    fill: var(--button-hover-fill-color);\n",
              "  }\n",
              "\n",
              "  .colab-df-quickchart-complete:disabled,\n",
              "  .colab-df-quickchart-complete:disabled:hover {\n",
              "    background-color: var(--disabled-bg-color);\n",
              "    fill: var(--disabled-fill-color);\n",
              "    box-shadow: none;\n",
              "  }\n",
              "\n",
              "  .colab-df-spinner {\n",
              "    border: 2px solid var(--fill-color);\n",
              "    border-color: transparent;\n",
              "    border-bottom-color: var(--fill-color);\n",
              "    animation:\n",
              "      spin 1s steps(1) infinite;\n",
              "  }\n",
              "\n",
              "  @keyframes spin {\n",
              "    0% {\n",
              "      border-color: transparent;\n",
              "      border-bottom-color: var(--fill-color);\n",
              "      border-left-color: var(--fill-color);\n",
              "    }\n",
              "    20% {\n",
              "      border-color: transparent;\n",
              "      border-left-color: var(--fill-color);\n",
              "      border-top-color: var(--fill-color);\n",
              "    }\n",
              "    30% {\n",
              "      border-color: transparent;\n",
              "      border-left-color: var(--fill-color);\n",
              "      border-top-color: var(--fill-color);\n",
              "      border-right-color: var(--fill-color);\n",
              "    }\n",
              "    40% {\n",
              "      border-color: transparent;\n",
              "      border-right-color: var(--fill-color);\n",
              "      border-top-color: var(--fill-color);\n",
              "    }\n",
              "    60% {\n",
              "      border-color: transparent;\n",
              "      border-right-color: var(--fill-color);\n",
              "    }\n",
              "    80% {\n",
              "      border-color: transparent;\n",
              "      border-right-color: var(--fill-color);\n",
              "      border-bottom-color: var(--fill-color);\n",
              "    }\n",
              "    90% {\n",
              "      border-color: transparent;\n",
              "      border-bottom-color: var(--fill-color);\n",
              "    }\n",
              "  }\n",
              "</style>\n",
              "\n",
              "  <script>\n",
              "    async function quickchart(key) {\n",
              "      const quickchartButtonEl =\n",
              "        document.querySelector('#' + key + ' button');\n",
              "      quickchartButtonEl.disabled = true;  // To prevent multiple clicks.\n",
              "      quickchartButtonEl.classList.add('colab-df-spinner');\n",
              "      try {\n",
              "        const charts = await google.colab.kernel.invokeFunction(\n",
              "            'suggestCharts', [key], {});\n",
              "      } catch (error) {\n",
              "        console.error('Error during call to suggestCharts:', error);\n",
              "      }\n",
              "      quickchartButtonEl.classList.remove('colab-df-spinner');\n",
              "      quickchartButtonEl.classList.add('colab-df-quickchart-complete');\n",
              "    }\n",
              "    (() => {\n",
              "      let quickchartButtonEl =\n",
              "        document.querySelector('#df-8fc07b9b-23b5-4263-9be8-4877e3d8874a button');\n",
              "      quickchartButtonEl.style.display =\n",
              "        google.colab.kernel.accessAllowed ? 'block' : 'none';\n",
              "    })();\n",
              "  </script>\n",
              "</div>\n",
              "    </div>\n",
              "  </div>\n"
            ],
            "application/vnd.google.colaboratory.intrinsic+json": {
              "type": "dataframe",
              "variable_name": "df",
              "summary": "{\n  \"name\": \"df\",\n  \"rows\": 2768,\n  \"fields\": [\n    {\n      \"column\": \"Id\",\n      \"properties\": {\n        \"dtype\": \"number\",\n        \"std\": 799,\n        \"min\": 1,\n        \"max\": 2768,\n        \"num_unique_values\": 2768,\n        \"samples\": [\n          1379,\n          840,\n          2165\n        ],\n        \"semantic_type\": \"\",\n        \"description\": \"\"\n      }\n    },\n    {\n      \"column\": \"Pregnancies\",\n      \"properties\": {\n        \"dtype\": \"number\",\n        \"std\": 0.195517703956964,\n        \"min\": 0.0,\n        \"max\": 1.0,\n        \"num_unique_values\": 17,\n        \"samples\": [\n          0.35294117647058826,\n          0.058823529411764705,\n          0.17647058823529413\n        ],\n        \"semantic_type\": \"\",\n        \"description\": \"\"\n      }\n    },\n    {\n      \"column\": \"Glucose\",\n      \"properties\": {\n        \"dtype\": \"number\",\n        \"std\": 0.16098747865152976,\n        \"min\": 0.0,\n        \"max\": 1.0,\n        \"num_unique_values\": 136,\n        \"samples\": [\n          0.7587939698492462,\n          0.507537688442211,\n          0.5628140703517588\n        ],\n        \"semantic_type\": \"\",\n        \"description\": \"\"\n      }\n    },\n    {\n      \"column\": \"BloodPressure\",\n      \"properties\": {\n        \"dtype\": \"number\",\n        \"std\": 0.15763473889833937,\n        \"min\": 0.0,\n        \"max\": 1.0,\n        \"num_unique_values\": 47,\n        \"samples\": [\n          0.7049180327868853,\n          0.3770491803278688,\n          0.6967213114754098\n        ],\n        \"semantic_type\": \"\",\n        \"description\": \"\"\n      }\n    },\n    {\n      \"column\": \"SkinThickness\",\n      \"properties\": {\n        \"dtype\": \"number\",\n        \"std\": 0.14599632454605058,\n        \"min\": 0.0,\n        \"max\": 1.0,\n        \"num_unique_values\": 53,\n        \"samples\": [\n          0.22727272727272727,\n          0.41818181818181815,\n          0.07272727272727272\n        ],\n        \"semantic_type\": \"\",\n        \"description\": \"\"\n      }\n    },\n    {\n      \"column\": \"Insulin\",\n      \"properties\": {\n        \"dtype\": \"number\",\n        \"std\": 0.13274460163299112,\n        \"min\": 0.0,\n        \"max\": 1.0,\n        \"num_unique_values\": 187,\n        \"samples\": [\n          0.13238770685579196,\n          0.1524822695035461,\n          0.07446808510638298\n        ],\n        \"semantic_type\": \"\",\n        \"description\": \"\"\n      }\n    },\n    {\n      \"column\": \"BMI\",\n      \"properties\": {\n        \"dtype\": \"number\",\n        \"std\": 0.10020008956155356,\n        \"min\": 0.0,\n        \"max\": 1.0,\n        \"num_unique_values\": 253,\n        \"samples\": [\n          0.5620347394540943,\n          0.38461538461538464,\n          0.3287841191066998\n        ],\n        \"semantic_type\": \"\",\n        \"description\": \"\"\n      }\n    },\n    {\n      \"column\": \"DiabetesPedigreeFunction\",\n      \"properties\": {\n        \"dtype\": \"number\",\n        \"std\": 0.13905586378960583,\n        \"min\": 0.0,\n        \"max\": 1.0,\n        \"num_unique_values\": 523,\n        \"samples\": [\n          0.10418445772843722,\n          0.040990606319385135,\n          0.07258753202391117\n        ],\n        \"semantic_type\": \"\",\n        \"description\": \"\"\n      }\n    },\n    {\n      \"column\": \"Age\",\n      \"properties\": {\n        \"dtype\": \"number\",\n        \"std\": 0.1962871664622983,\n        \"min\": 0.0,\n        \"max\": 1.0,\n        \"num_unique_values\": 52,\n        \"samples\": [\n          0.65,\n          0.43333333333333335,\n          0.85\n        ],\n        \"semantic_type\": \"\",\n        \"description\": \"\"\n      }\n    },\n    {\n      \"column\": \"Outcome\",\n      \"properties\": {\n        \"dtype\": \"number\",\n        \"std\": 0,\n        \"min\": 0,\n        \"max\": 1,\n        \"num_unique_values\": 2,\n        \"samples\": [\n          0,\n          1\n        ],\n        \"semantic_type\": \"\",\n        \"description\": \"\"\n      }\n    }\n  ]\n}"
            }
          },
          "metadata": {},
          "execution_count": 6
        }
      ]
    },
    {
      "cell_type": "markdown",
      "source": [
        "Потрібно на основі інформації пацієнта виявити наявність діабету `Outcome`"
      ],
      "metadata": {
        "id": "KAmkR_CFejgQ"
      }
    },
    {
      "cell_type": "markdown",
      "source": [
        "# Завдання 1\n",
        "Створіть клас Dataset для тренувальних та тестових даних"
      ],
      "metadata": {
        "id": "dBt0E5BJe6OK"
      }
    },
    {
      "cell_type": "code",
      "source": [
        "from torch.utils.data import Dataset\n",
        "from sklearn.model_selection import train_test_split\n",
        "\n",
        "class MyDataset(Dataset):\n",
        "    def __init__(self, X, y):\n",
        "      self.X = torch.FloatTensor(X.values)\n",
        "      self.y = torch.FloatTensor(y.values)\n",
        "      self.y = self.y.reshape(-1, 1)\n",
        "\n",
        "    def __len__(self):\n",
        "      return len(self.X)\n",
        "\n",
        "    def __getitem__(self, idx):\n",
        "      return self.X[idx], self.y[idx]\n",
        "\n",
        "# Create dataset object\n",
        "X = df.drop(columns=['Outcome'])\n",
        "y = df['Outcome']\n",
        "\n",
        "dataset = MyDataset(X, y)"
      ],
      "metadata": {
        "id": "vFtu1Wd1drwJ"
      },
      "execution_count": 9,
      "outputs": []
    },
    {
      "cell_type": "code",
      "source": [
        "X_train, X_test, y_train, y_test = train_test_split(X, y,\n",
        "                                                    train_size=0.8,\n",
        "                                                    random_state=42)\n",
        "\n",
        "dataset_train = MyDataset(X_train, y_train)\n",
        "dataset_test = MyDataset(X_test, y_test)"
      ],
      "metadata": {
        "id": "bUsWMIF1yn54"
      },
      "execution_count": 10,
      "outputs": []
    },
    {
      "cell_type": "markdown",
      "source": [
        "# Завдання 2\n",
        "Створіть DataLoader"
      ],
      "metadata": {
        "id": "zQlB_6WzfB8n"
      }
    },
    {
      "cell_type": "code",
      "source": [
        "from torch.utils.data import DataLoader\n",
        "\n",
        "batch_size = 128\n",
        "train_dl = DataLoader(dataset_train,  # датасет з даними\n",
        "                      batch_size=batch_size,  # кількість даних в одному пакеті\n",
        "                      shuffle=True)  # чи треба перемішувати дані)\n",
        "\n",
        "test_dl = DataLoader(dataset_test,  # датасет з даними\n",
        "                     batch_size=batch_size,  # кількість даних в одному пакеті\n",
        "                     shuffle=True)  # чи треба перемішувати дані)"
      ],
      "metadata": {
        "id": "-6-po4H4fZQy"
      },
      "execution_count": 11,
      "outputs": []
    },
    {
      "cell_type": "markdown",
      "source": [
        "# Завдання 3\n",
        "Створіть нейромережу"
      ],
      "metadata": {
        "id": "2W93LiDxfZrx"
      }
    },
    {
      "cell_type": "code",
      "source": [
        "import numpy as np\n",
        "from torch import nn\n",
        "import torch.nn.functional as F\n",
        "\n",
        "\n",
        "class BinaryClassifier(nn.Module):\n",
        "    def __init__(self, input_dim, hidden_dim, hidden_dim1, hidden_dim2, output_dim):\n",
        "        super().__init__()\n",
        "\n",
        "        self.linear1 = nn.Linear(input_dim, hidden_dim)\n",
        "        self.linear2 = nn.Linear(hidden_dim, hidden_dim1)\n",
        "        self.linear3 = nn.Linear(hidden_dim1, hidden_dim2)\n",
        "        self.linear4 = nn.Linear(hidden_dim2, output_dim)\n",
        "\n",
        "    def forward(self, x):\n",
        "        out = self.linear1(x)\n",
        "        out = F.relu(out)\n",
        "\n",
        "        out = self.linear2(out)\n",
        "        out = F.relu(out)\n",
        "\n",
        "        out = self.linear3(out)\n",
        "        out = F.relu(out)\n",
        "\n",
        "        out = self.linear4(out)\n",
        "        out = F.sigmoid(out)\n",
        "\n",
        "        return out\n",
        "\n",
        "    def predict(self, X, device='cpu'):\n",
        "        X = torch.FloatTensor(np.array(X)).to(device)\n",
        "\n",
        "        with torch.no_grad():\n",
        "          y_pred = self.forward(X)\n",
        "\n",
        "        return y_pred.numpy()\n",
        "\n",
        "\n",
        "model = BinaryClassifier(8, 128, 64, 32, 1)\n",
        "model"
      ],
      "metadata": {
        "id": "p9DHog7Xf7xE",
        "outputId": "ef9a2159-bd35-4b26-8ec2-115074efff26",
        "colab": {
          "base_uri": "https://localhost:8080/"
        }
      },
      "execution_count": 12,
      "outputs": [
        {
          "output_type": "execute_result",
          "data": {
            "text/plain": [
              "BinaryClassifier(\n",
              "  (linear1): Linear(in_features=8, out_features=128, bias=True)\n",
              "  (linear2): Linear(in_features=128, out_features=64, bias=True)\n",
              "  (linear3): Linear(in_features=64, out_features=32, bias=True)\n",
              "  (linear4): Linear(in_features=32, out_features=1, bias=True)\n",
              ")"
            ]
          },
          "metadata": {},
          "execution_count": 12
        }
      ]
    },
    {
      "cell_type": "markdown",
      "source": [
        "# Завдання 4\n",
        "Визначте функцію втрат та оптимізатор"
      ],
      "metadata": {
        "id": "VmNUVkkUf8gB"
      }
    },
    {
      "cell_type": "code",
      "source": [
        "# Функція втрат середньоквадратичної помилки (MSE) для регресії\n",
        "loss_fn = nn.BCELoss()\n",
        "\n",
        "# Оптимізатор (SGD) для оновлення ваг моделі\n",
        "optimizer = torch.optim.RMSprop(model.parameters(), lr=0.001)"
      ],
      "metadata": {
        "id": "e1sw9oRBgDXR"
      },
      "execution_count": 13,
      "outputs": []
    },
    {
      "cell_type": "markdown",
      "source": [
        "# Завдання 5\n",
        "Натренуйте нейромережу. Візміть невелику кількість епох"
      ],
      "metadata": {
        "id": "qTOFCl_egEFZ"
      }
    },
    {
      "cell_type": "code",
      "source": [
        "# @title Функція для тренування\n",
        "import time\n",
        "\n",
        "def train(model, optimizer, loss_fn, train_dl, val_dl,\n",
        "          metrics=None, metrics_name=None, epochs=20, device='cpu', task='regression'):\n",
        "    '''\n",
        "    Runs training loop for classification problems. Returns Keras-style\n",
        "    per-epoch history of loss and accuracy over training and validation data.\n",
        "\n",
        "    Parameters\n",
        "    ----------\n",
        "    model : nn.Module\n",
        "        Neural network model\n",
        "    optimizer : torch.optim.Optimizer\n",
        "        Search space optimizer (e.g. Adam)\n",
        "    loss_fn :\n",
        "        Loss function (e.g. nn.CrossEntropyLoss())\n",
        "    train_dl :\n",
        "        Iterable dataloader for training data.\n",
        "    val_dl :\n",
        "        Iterable dataloader for validation data.\n",
        "    metrics: list\n",
        "        List of sklearn metrics functions to be calculated\n",
        "    metrics_name: list\n",
        "        List of matrics names\n",
        "    epochs : int\n",
        "        Number of epochs to run\n",
        "    device : string\n",
        "        Specifies 'cuda' or 'cpu'\n",
        "    task : string\n",
        "        type of problem. It can be regression, binary or multiclass\n",
        "\n",
        "    Returns\n",
        "    -------\n",
        "    Dictionary\n",
        "        Similar to Keras' fit(), the output dictionary contains per-epoch\n",
        "        history of training loss, training accuracy, validation loss, and\n",
        "        validation accuracy.\n",
        "    '''\n",
        "\n",
        "    print('train() called: model=%s, opt=%s(lr=%f), epochs=%d, device=%s\\n' % \\\n",
        "          (type(model).__name__, type(optimizer).__name__,\n",
        "           optimizer.param_groups[0]['lr'], epochs, device))\n",
        "\n",
        "    metrics = metrics if metrics else []\n",
        "    metrics_name = metrics_name if metrics_name else [metric.__name__ for metric in metrics]\n",
        "\n",
        "    history = {} # Collects per-epoch loss and metrics like Keras' fit().\n",
        "    history['loss'] = []\n",
        "    history['val_loss'] = []\n",
        "    for name in metrics_name:\n",
        "        history[name] = []\n",
        "        history[f'val_{name}'] = []\n",
        "\n",
        "    start_time_train = time.time()\n",
        "\n",
        "    for epoch in range(epochs):\n",
        "\n",
        "        # --- TRAIN AND EVALUATE ON TRAINING SET -----------------------------\n",
        "        start_time_epoch = time.time()\n",
        "\n",
        "        model.train()\n",
        "        history_train = {name: 0 for name in ['loss']+metrics_name}\n",
        "\n",
        "        for batch in train_dl:\n",
        "            x    = batch[0].to(device)\n",
        "            y    = batch[1].to(device)\n",
        "            y_pred = model(x)\n",
        "            loss = loss_fn(y_pred, y)\n",
        "\n",
        "            optimizer.zero_grad()\n",
        "            loss.backward()\n",
        "            optimizer.step()\n",
        "\n",
        "            y_pred = y_pred.detach().numpy()\n",
        "            y = y.detach().numpy()\n",
        "\n",
        "\n",
        "            history_train['loss'] += loss.item() * x.size(0)\n",
        "            for name, func in zip(metrics_name, metrics):\n",
        "              try:\n",
        "                  history_train[name] += func(y, y_pred) * x.size(0)\n",
        "              except:\n",
        "                  if task == 'binary': y_pred_ = y_pred.round()\n",
        "                  elif task == 'multiclass': y_pred_ = y_pred.argmax(axis=-1)\n",
        "                  history_train[name] += func(y, y_pred_) * x.size(0)\n",
        "\n",
        "        for name in history_train:\n",
        "            history_train[name] /= len(train_dl.dataset)\n",
        "\n",
        "\n",
        "        # --- EVALUATE ON VALIDATION SET -------------------------------------\n",
        "        model.eval()\n",
        "        history_val = {'val_' + name: 0 for name in metrics_name+['loss']}\n",
        "\n",
        "        with torch.no_grad():\n",
        "            for batch in val_dl:\n",
        "                x    = batch[0].to(device)\n",
        "                y    = batch[1].to(device)\n",
        "                y_pred = model(x)\n",
        "                loss = loss_fn(y_pred, y)\n",
        "\n",
        "                y_pred = y_pred.detach().numpy()\n",
        "                y = y.detach().numpy()\n",
        "\n",
        "                history_val['val_loss'] += loss.item() * x.size(0)\n",
        "                for name, func in zip(metrics_name, metrics):\n",
        "                    try:\n",
        "                        history_val['val_'+name] += func(y, y_pred) * x.size(0)\n",
        "                    except:\n",
        "                        if task == 'binary': y_pred_ = y_pred.round()\n",
        "                        elif task == 'multiclass': y_pred_ = y_pred.argmax(axis=-1)\n",
        "\n",
        "                        history_val['val_'+name] += func(y, y_pred_) * x.size(0)\n",
        "\n",
        "        for name in history_val:\n",
        "            history_val[name] /= len(val_dl.dataset)\n",
        "\n",
        "        # PRINTING RESULTS\n",
        "\n",
        "        end_time_epoch = time.time()\n",
        "\n",
        "        for name in history_train:\n",
        "            history[name].append(history_train[name])\n",
        "            history['val_'+name].append(history_val['val_'+name])\n",
        "\n",
        "        total_time_epoch = end_time_epoch - start_time_epoch\n",
        "\n",
        "        print(f'Epoch {epoch+1:4d} {total_time_epoch:4.0f}sec', end='\\t')\n",
        "        for name in history_train:\n",
        "            print(f'{name}: {history[name][-1]:10.3g}', end='\\t')\n",
        "            print(f\"val_{name}: {history['val_'+name][-1]:10.3g}\", end='\\t')\n",
        "        print()\n",
        "\n",
        "    # END OF TRAINING LOOP\n",
        "\n",
        "    end_time_train       = time.time()\n",
        "    total_time_train     = end_time_train - start_time_train\n",
        "    print()\n",
        "    print('Time total:     %5.2f sec' % (total_time_train))\n",
        "\n",
        "    return history"
      ],
      "metadata": {
        "id": "Nxo4p3IUgOx5"
      },
      "execution_count": 14,
      "outputs": []
    },
    {
      "cell_type": "code",
      "source": [
        "from sklearn.metrics import accuracy_score, roc_auc_score\n",
        "\n",
        "history = train(model, optimizer, loss_fn, train_dl, test_dl,\n",
        "                epochs=80,\n",
        "                metrics=[accuracy_score, roc_auc_score],\n",
        "                task='binary')"
      ],
      "metadata": {
        "id": "Q3kOOOF7xHMV",
        "outputId": "5517ce1f-20fb-4935-d7cf-9dd1dde41d2f",
        "colab": {
          "base_uri": "https://localhost:8080/"
        }
      },
      "execution_count": 15,
      "outputs": [
        {
          "output_type": "stream",
          "name": "stdout",
          "text": [
            "train() called: model=BinaryClassifier, opt=RMSprop(lr=0.001000), epochs=80, device=cpu\n",
            "\n",
            "Epoch    1    0sec\tloss:      0.642\tval_loss:      0.579\taccuracy_score:      0.644\tval_accuracy_score:      0.681\troc_auc_score:      0.564\tval_roc_auc_score:       0.78\t\n",
            "Epoch    2    0sec\tloss:      0.544\tval_loss:      0.535\taccuracy_score:      0.724\tval_accuracy_score:       0.74\troc_auc_score:      0.811\tval_roc_auc_score:      0.807\t\n",
            "Epoch    3    0sec\tloss:      0.499\tval_loss:      0.558\taccuracy_score:      0.754\tval_accuracy_score:      0.736\troc_auc_score:      0.828\tval_roc_auc_score:      0.828\t\n",
            "Epoch    4    0sec\tloss:      0.487\tval_loss:      0.481\taccuracy_score:      0.773\tval_accuracy_score:      0.769\troc_auc_score:      0.838\tval_roc_auc_score:      0.832\t\n",
            "Epoch    5    0sec\tloss:       0.47\tval_loss:      0.471\taccuracy_score:      0.776\tval_accuracy_score:      0.778\troc_auc_score:      0.844\tval_roc_auc_score:      0.833\t\n",
            "Epoch    6    0sec\tloss:      0.466\tval_loss:      0.476\taccuracy_score:      0.779\tval_accuracy_score:      0.769\troc_auc_score:      0.847\tval_roc_auc_score:      0.832\t\n",
            "Epoch    7    0sec\tloss:      0.462\tval_loss:      0.469\taccuracy_score:      0.781\tval_accuracy_score:      0.767\troc_auc_score:       0.85\tval_roc_auc_score:      0.837\t\n",
            "Epoch    8    1sec\tloss:      0.454\tval_loss:      0.489\taccuracy_score:      0.787\tval_accuracy_score:       0.76\troc_auc_score:      0.851\tval_roc_auc_score:      0.838\t\n",
            "Epoch    9    0sec\tloss:      0.455\tval_loss:      0.511\taccuracy_score:      0.783\tval_accuracy_score:      0.776\troc_auc_score:      0.854\tval_roc_auc_score:      0.843\t\n",
            "Epoch   10    0sec\tloss:       0.45\tval_loss:       0.48\taccuracy_score:      0.791\tval_accuracy_score:      0.782\troc_auc_score:      0.856\tval_roc_auc_score:      0.842\t\n",
            "Epoch   11    0sec\tloss:      0.449\tval_loss:      0.462\taccuracy_score:      0.789\tval_accuracy_score:      0.771\troc_auc_score:      0.856\tval_roc_auc_score:      0.841\t\n",
            "Epoch   12    0sec\tloss:      0.445\tval_loss:      0.469\taccuracy_score:      0.792\tval_accuracy_score:      0.769\troc_auc_score:       0.86\tval_roc_auc_score:      0.842\t\n",
            "Epoch   13    0sec\tloss:      0.446\tval_loss:      0.462\taccuracy_score:      0.787\tval_accuracy_score:      0.765\troc_auc_score:      0.858\tval_roc_auc_score:      0.846\t\n",
            "Epoch   14    0sec\tloss:      0.441\tval_loss:      0.468\taccuracy_score:      0.793\tval_accuracy_score:      0.764\troc_auc_score:      0.859\tval_roc_auc_score:       0.84\t\n",
            "Epoch   15    0sec\tloss:      0.443\tval_loss:      0.458\taccuracy_score:      0.794\tval_accuracy_score:      0.773\troc_auc_score:      0.859\tval_roc_auc_score:      0.848\t\n",
            "Epoch   16    0sec\tloss:      0.444\tval_loss:      0.456\taccuracy_score:      0.793\tval_accuracy_score:      0.773\troc_auc_score:       0.86\tval_roc_auc_score:      0.844\t\n",
            "Epoch   17    0sec\tloss:      0.439\tval_loss:      0.454\taccuracy_score:      0.797\tval_accuracy_score:      0.776\troc_auc_score:      0.863\tval_roc_auc_score:      0.844\t\n",
            "Epoch   18    0sec\tloss:      0.439\tval_loss:      0.452\taccuracy_score:      0.795\tval_accuracy_score:      0.774\troc_auc_score:      0.864\tval_roc_auc_score:      0.848\t\n",
            "Epoch   19    0sec\tloss:      0.437\tval_loss:      0.462\taccuracy_score:      0.797\tval_accuracy_score:      0.764\troc_auc_score:      0.862\tval_roc_auc_score:      0.847\t\n",
            "Epoch   20    0sec\tloss:      0.434\tval_loss:      0.455\taccuracy_score:      0.797\tval_accuracy_score:       0.78\troc_auc_score:      0.866\tval_roc_auc_score:      0.851\t\n",
            "Epoch   21    0sec\tloss:      0.435\tval_loss:      0.449\taccuracy_score:      0.791\tval_accuracy_score:      0.776\troc_auc_score:      0.869\tval_roc_auc_score:      0.852\t\n",
            "Epoch   22    0sec\tloss:      0.434\tval_loss:      0.493\taccuracy_score:      0.798\tval_accuracy_score:      0.778\troc_auc_score:      0.868\tval_roc_auc_score:      0.853\t\n",
            "Epoch   23    0sec\tloss:      0.433\tval_loss:      0.451\taccuracy_score:      0.794\tval_accuracy_score:      0.776\troc_auc_score:      0.867\tval_roc_auc_score:      0.847\t\n",
            "Epoch   24    0sec\tloss:      0.429\tval_loss:      0.445\taccuracy_score:      0.802\tval_accuracy_score:      0.787\troc_auc_score:      0.868\tval_roc_auc_score:      0.851\t\n",
            "Epoch   25    0sec\tloss:      0.429\tval_loss:      0.449\taccuracy_score:      0.803\tval_accuracy_score:      0.778\troc_auc_score:      0.869\tval_roc_auc_score:      0.858\t\n",
            "Epoch   26    0sec\tloss:      0.429\tval_loss:      0.442\taccuracy_score:      0.796\tval_accuracy_score:      0.794\troc_auc_score:      0.871\tval_roc_auc_score:      0.857\t\n",
            "Epoch   27    0sec\tloss:      0.427\tval_loss:      0.486\taccuracy_score:      0.799\tval_accuracy_score:      0.742\troc_auc_score:       0.87\tval_roc_auc_score:      0.852\t\n",
            "Epoch   28    0sec\tloss:      0.427\tval_loss:      0.443\taccuracy_score:      0.799\tval_accuracy_score:      0.785\troc_auc_score:      0.871\tval_roc_auc_score:      0.856\t\n",
            "Epoch   29    0sec\tloss:      0.422\tval_loss:      0.439\taccuracy_score:        0.8\tval_accuracy_score:      0.785\troc_auc_score:      0.872\tval_roc_auc_score:      0.859\t\n",
            "Epoch   30    0sec\tloss:      0.421\tval_loss:      0.441\taccuracy_score:      0.799\tval_accuracy_score:       0.78\troc_auc_score:      0.874\tval_roc_auc_score:      0.863\t\n",
            "Epoch   31    0sec\tloss:      0.423\tval_loss:      0.454\taccuracy_score:      0.802\tval_accuracy_score:      0.791\troc_auc_score:      0.876\tval_roc_auc_score:      0.863\t\n",
            "Epoch   32    0sec\tloss:      0.421\tval_loss:      0.436\taccuracy_score:      0.797\tval_accuracy_score:        0.8\troc_auc_score:      0.878\tval_roc_auc_score:      0.861\t\n",
            "Epoch   33    0sec\tloss:       0.42\tval_loss:      0.434\taccuracy_score:      0.806\tval_accuracy_score:      0.796\troc_auc_score:      0.875\tval_roc_auc_score:      0.862\t\n",
            "Epoch   34    0sec\tloss:      0.417\tval_loss:      0.431\taccuracy_score:      0.804\tval_accuracy_score:      0.794\troc_auc_score:      0.877\tval_roc_auc_score:      0.865\t\n",
            "Epoch   35    0sec\tloss:      0.418\tval_loss:       0.44\taccuracy_score:      0.807\tval_accuracy_score:      0.789\troc_auc_score:      0.876\tval_roc_auc_score:      0.858\t\n",
            "Epoch   36    0sec\tloss:      0.414\tval_loss:       0.43\taccuracy_score:      0.804\tval_accuracy_score:      0.796\troc_auc_score:      0.877\tval_roc_auc_score:      0.867\t\n",
            "Epoch   37    0sec\tloss:      0.416\tval_loss:      0.431\taccuracy_score:       0.81\tval_accuracy_score:      0.789\troc_auc_score:      0.879\tval_roc_auc_score:      0.862\t\n",
            "Epoch   38    0sec\tloss:      0.413\tval_loss:      0.444\taccuracy_score:      0.807\tval_accuracy_score:       0.78\troc_auc_score:       0.88\tval_roc_auc_score:      0.867\t\n",
            "Epoch   39    0sec\tloss:      0.415\tval_loss:      0.463\taccuracy_score:      0.806\tval_accuracy_score:      0.776\troc_auc_score:      0.882\tval_roc_auc_score:       0.86\t\n",
            "Epoch   40    0sec\tloss:      0.412\tval_loss:      0.427\taccuracy_score:      0.806\tval_accuracy_score:      0.792\troc_auc_score:      0.881\tval_roc_auc_score:      0.866\t\n",
            "Epoch   41    0sec\tloss:      0.408\tval_loss:       0.47\taccuracy_score:      0.809\tval_accuracy_score:      0.791\troc_auc_score:      0.882\tval_roc_auc_score:       0.87\t\n",
            "Epoch   42    0sec\tloss:      0.411\tval_loss:      0.424\taccuracy_score:      0.805\tval_accuracy_score:      0.794\troc_auc_score:      0.882\tval_roc_auc_score:      0.868\t\n",
            "Epoch   43    0sec\tloss:      0.411\tval_loss:      0.466\taccuracy_score:       0.81\tval_accuracy_score:      0.791\troc_auc_score:      0.885\tval_roc_auc_score:      0.866\t\n",
            "Epoch   44    0sec\tloss:      0.408\tval_loss:      0.438\taccuracy_score:       0.81\tval_accuracy_score:      0.774\troc_auc_score:      0.885\tval_roc_auc_score:      0.866\t\n",
            "Epoch   45    0sec\tloss:      0.408\tval_loss:      0.441\taccuracy_score:      0.808\tval_accuracy_score:      0.801\troc_auc_score:      0.884\tval_roc_auc_score:      0.869\t\n",
            "Epoch   46    0sec\tloss:      0.407\tval_loss:      0.438\taccuracy_score:      0.808\tval_accuracy_score:      0.796\troc_auc_score:      0.885\tval_roc_auc_score:      0.867\t\n",
            "Epoch   47    0sec\tloss:      0.408\tval_loss:       0.42\taccuracy_score:      0.815\tval_accuracy_score:      0.796\troc_auc_score:      0.888\tval_roc_auc_score:      0.867\t\n",
            "Epoch   48    0sec\tloss:      0.403\tval_loss:      0.419\taccuracy_score:      0.808\tval_accuracy_score:      0.791\troc_auc_score:      0.889\tval_roc_auc_score:      0.877\t\n",
            "Epoch   49    0sec\tloss:      0.399\tval_loss:      0.442\taccuracy_score:      0.813\tval_accuracy_score:        0.8\troc_auc_score:      0.889\tval_roc_auc_score:      0.873\t\n",
            "Epoch   50    0sec\tloss:      0.403\tval_loss:      0.437\taccuracy_score:       0.81\tval_accuracy_score:      0.776\troc_auc_score:      0.888\tval_roc_auc_score:      0.871\t\n",
            "Epoch   51    0sec\tloss:        0.4\tval_loss:      0.444\taccuracy_score:      0.814\tval_accuracy_score:        0.8\troc_auc_score:       0.89\tval_roc_auc_score:      0.869\t\n",
            "Epoch   52    0sec\tloss:      0.396\tval_loss:      0.415\taccuracy_score:       0.82\tval_accuracy_score:      0.798\troc_auc_score:       0.89\tval_roc_auc_score:      0.877\t\n",
            "Epoch   53    0sec\tloss:      0.397\tval_loss:      0.434\taccuracy_score:      0.812\tval_accuracy_score:      0.776\troc_auc_score:      0.891\tval_roc_auc_score:      0.871\t\n",
            "Epoch   54    0sec\tloss:      0.397\tval_loss:      0.412\taccuracy_score:      0.815\tval_accuracy_score:      0.796\troc_auc_score:      0.891\tval_roc_auc_score:      0.876\t\n",
            "Epoch   55    0sec\tloss:        0.4\tval_loss:      0.502\taccuracy_score:      0.813\tval_accuracy_score:       0.74\troc_auc_score:      0.892\tval_roc_auc_score:      0.867\t\n",
            "Epoch   56    0sec\tloss:      0.399\tval_loss:       0.42\taccuracy_score:      0.814\tval_accuracy_score:      0.801\troc_auc_score:      0.891\tval_roc_auc_score:      0.875\t\n",
            "Epoch   57    0sec\tloss:      0.397\tval_loss:      0.448\taccuracy_score:      0.822\tval_accuracy_score:       0.78\troc_auc_score:      0.894\tval_roc_auc_score:      0.873\t\n",
            "Epoch   58    0sec\tloss:      0.392\tval_loss:      0.411\taccuracy_score:      0.822\tval_accuracy_score:        0.8\troc_auc_score:      0.894\tval_roc_auc_score:      0.878\t\n",
            "Epoch   59    0sec\tloss:      0.394\tval_loss:      0.434\taccuracy_score:      0.817\tval_accuracy_score:      0.805\troc_auc_score:      0.895\tval_roc_auc_score:      0.881\t\n",
            "Epoch   60    0sec\tloss:      0.389\tval_loss:       0.41\taccuracy_score:      0.822\tval_accuracy_score:      0.796\troc_auc_score:      0.896\tval_roc_auc_score:      0.877\t\n",
            "Epoch   61    0sec\tloss:      0.389\tval_loss:      0.408\taccuracy_score:       0.82\tval_accuracy_score:      0.807\troc_auc_score:      0.895\tval_roc_auc_score:       0.88\t\n",
            "Epoch   62    0sec\tloss:      0.388\tval_loss:      0.419\taccuracy_score:       0.82\tval_accuracy_score:      0.776\troc_auc_score:      0.895\tval_roc_auc_score:       0.88\t\n",
            "Epoch   63    0sec\tloss:      0.386\tval_loss:       0.43\taccuracy_score:      0.819\tval_accuracy_score:      0.785\troc_auc_score:      0.897\tval_roc_auc_score:      0.877\t\n",
            "Epoch   64    0sec\tloss:      0.389\tval_loss:      0.438\taccuracy_score:      0.824\tval_accuracy_score:      0.782\troc_auc_score:      0.896\tval_roc_auc_score:      0.875\t\n",
            "Epoch   65    0sec\tloss:       0.39\tval_loss:      0.405\taccuracy_score:      0.826\tval_accuracy_score:      0.798\troc_auc_score:      0.898\tval_roc_auc_score:       0.88\t\n",
            "Epoch   66    0sec\tloss:      0.383\tval_loss:      0.415\taccuracy_score:      0.824\tval_accuracy_score:      0.782\troc_auc_score:      0.897\tval_roc_auc_score:      0.879\t\n",
            "Epoch   67    0sec\tloss:      0.384\tval_loss:       0.42\taccuracy_score:       0.82\tval_accuracy_score:      0.789\troc_auc_score:      0.899\tval_roc_auc_score:      0.879\t\n",
            "Epoch   68    0sec\tloss:      0.381\tval_loss:      0.416\taccuracy_score:      0.828\tval_accuracy_score:      0.818\troc_auc_score:        0.9\tval_roc_auc_score:      0.879\t\n",
            "Epoch   69    0sec\tloss:      0.389\tval_loss:      0.401\taccuracy_score:      0.828\tval_accuracy_score:      0.801\troc_auc_score:      0.901\tval_roc_auc_score:      0.884\t\n",
            "Epoch   70    0sec\tloss:      0.378\tval_loss:      0.409\taccuracy_score:       0.83\tval_accuracy_score:      0.814\troc_auc_score:      0.901\tval_roc_auc_score:      0.881\t\n",
            "Epoch   71    0sec\tloss:      0.379\tval_loss:        0.4\taccuracy_score:      0.829\tval_accuracy_score:       0.81\troc_auc_score:      0.901\tval_roc_auc_score:      0.882\t\n",
            "Epoch   72    0sec\tloss:      0.386\tval_loss:      0.396\taccuracy_score:      0.825\tval_accuracy_score:      0.807\troc_auc_score:      0.902\tval_roc_auc_score:      0.885\t\n",
            "Epoch   73    0sec\tloss:      0.373\tval_loss:      0.399\taccuracy_score:      0.839\tval_accuracy_score:      0.812\troc_auc_score:      0.902\tval_roc_auc_score:      0.884\t\n",
            "Epoch   74    0sec\tloss:       0.38\tval_loss:      0.397\taccuracy_score:      0.828\tval_accuracy_score:      0.814\troc_auc_score:      0.906\tval_roc_auc_score:      0.884\t\n",
            "Epoch   75    0sec\tloss:      0.377\tval_loss:      0.431\taccuracy_score:      0.837\tval_accuracy_score:      0.816\troc_auc_score:      0.906\tval_roc_auc_score:      0.883\t\n",
            "Epoch   76    0sec\tloss:       0.37\tval_loss:      0.405\taccuracy_score:      0.843\tval_accuracy_score:      0.794\troc_auc_score:      0.905\tval_roc_auc_score:      0.886\t\n",
            "Epoch   77    0sec\tloss:      0.375\tval_loss:      0.417\taccuracy_score:      0.835\tval_accuracy_score:      0.794\troc_auc_score:      0.907\tval_roc_auc_score:      0.889\t\n",
            "Epoch   78    0sec\tloss:      0.371\tval_loss:      0.411\taccuracy_score:      0.834\tval_accuracy_score:      0.794\troc_auc_score:      0.906\tval_roc_auc_score:      0.884\t\n",
            "Epoch   79    0sec\tloss:      0.369\tval_loss:      0.399\taccuracy_score:      0.841\tval_accuracy_score:      0.805\troc_auc_score:      0.908\tval_roc_auc_score:       0.89\t\n",
            "Epoch   80    0sec\tloss:      0.367\tval_loss:      0.395\taccuracy_score:      0.835\tval_accuracy_score:       0.81\troc_auc_score:       0.91\tval_roc_auc_score:      0.884\t\n",
            "\n",
            "Time total:     12.67 sec\n"
          ]
        }
      ]
    },
    {
      "cell_type": "code",
      "source": [
        "import matplotlib.pyplot as plt\n",
        "\n",
        "def plot_metric(history, name):\n",
        "  plt.title(f\"Model results with {name}\")\n",
        "  plt.plot(history[name], label='train')\n",
        "  plt.plot(history['val_'+name], label='val')\n",
        "  plt.xlabel('Epoch')\n",
        "  plt.ylabel(name)\n",
        "  plt.legend()"
      ],
      "metadata": {
        "id": "uBRpF90ExYnd"
      },
      "execution_count": 16,
      "outputs": []
    },
    {
      "cell_type": "code",
      "source": [
        "plot_metric(history, 'loss')"
      ],
      "metadata": {
        "id": "zz8egvalxZ3k",
        "outputId": "edfce288-d764-4d88-a2e7-ff8506926360",
        "colab": {
          "base_uri": "https://localhost:8080/",
          "height": 472
        }
      },
      "execution_count": 17,
      "outputs": [
        {
          "output_type": "display_data",
          "data": {
            "text/plain": [
              "<Figure size 640x480 with 1 Axes>"
            ],
            "image/png": "[encoded data removed]"
          },
          "metadata": {}
        }
      ]
    },
    {
      "cell_type": "code",
      "source": [
        "plot_metric(history, 'accuracy_score')"
      ],
      "metadata": {
        "id": "4Ew9AhGCxckm",
        "outputId": "f61b1579-cb95-42da-adc9-45ea039c3db0",
        "colab": {
          "base_uri": "https://localhost:8080/",
          "height": 472
        }
      },
      "execution_count": 18,
      "outputs": [
        {
          "output_type": "display_data",
          "data": {
            "text/plain": [
              "<Figure size 640x480 with 1 Axes>"
            ],
            "image/png": "[encoded data removed]"
          },
          "metadata": {}
        }
      ]
    },
    {
      "cell_type": "code",
      "source": [
        "from sklearn.metrics import ConfusionMatrixDisplay, RocCurveDisplay\n",
        "\n",
        "y_pred = model.predict(X_test)\n",
        "\n",
        "ConfusionMatrixDisplay.from_predictions(y_test, y_pred.round())\n",
        "plt.plot()\n",
        "\n",
        "RocCurveDisplay.from_predictions(y_test, y_pred, pos_label=1)"
      ],
      "metadata": {
        "id": "XQcHvwTVxgT6",
        "outputId": "d8c38c6d-a3db-4e2d-87fa-9f7eb0eda00b",
        "colab": {
          "base_uri": "https://localhost:8080/",
          "height": 898
        }
      },
      "execution_count": 19,
      "outputs": [
        {
          "output_type": "execute_result",
          "data": {
            "text/plain": [
              "<sklearn.metrics._plot.roc_curve.RocCurveDisplay at 0x7a618157aec0>"
            ]
          },
          "metadata": {},
          "execution_count": 19
        },
        {
          "output_type": "display_data",
          "data": {
            "text/plain": [
              "<Figure size 640x480 with 2 Axes>"
            ],
            "image/png": "[encoded data removed]"
          },
          "metadata": {}
        },
        {
          "output_type": "display_data",
          "data": {
            "text/plain": [
              "<Figure size 640x480 with 1 Axes>"
            ],
            "image/png": "[encoded data removed]"
          },
          "metadata": {}
        }
      ]
    },
    {
      "cell_type": "markdown",
      "source": [
        "# Завдання 6\n",
        "Збережіть нейромережу та зробіть прогноз"
      ],
      "metadata": {
        "id": "aoclw4XlgPhB"
      }
    },
    {
      "cell_type": "code",
      "source": [
        "torch.save(model, 'model.pt')\n",
        "load_model = torch.load('model.pt')"
      ],
      "metadata": {
        "id": "UzVFg-KjgYgy"
      },
      "execution_count": 20,
      "outputs": []
    },
    {
      "cell_type": "code",
      "source": [
        "load_model"
      ],
      "metadata": {
        "id": "zw5pyct-xtGJ",
        "outputId": "37754e5b-7cab-49a3-d21b-4ff8e6156e61",
        "colab": {
          "base_uri": "https://localhost:8080/"
        }
      },
      "execution_count": 28,
      "outputs": [
        {
          "output_type": "execute_result",
          "data": {
            "text/plain": [
              "BinaryClassifier(\n",
              "  (linear1): Linear(in_features=8, out_features=128, bias=True)\n",
              "  (linear2): Linear(in_features=128, out_features=64, bias=True)\n",
              "  (linear3): Linear(in_features=64, out_features=32, bias=True)\n",
              "  (linear4): Linear(in_features=32, out_features=1, bias=True)\n",
              ")"
            ]
          },
          "metadata": {},
          "execution_count": 28
        }
      ]
    },
    {
      "cell_type": "code",
      "source": [
        "X_data = torch.FloatTensor([X.iloc[0,:].values])\n",
        "\n",
        "\n",
        "print(X_data)\n",
        "print(X_data.shape)"
      ],
      "metadata": {
        "id": "kMbTlgCVx3TL",
        "outputId": "9bc16c2b-910a-473e-b57c-8cae6315204e",
        "colab": {
          "base_uri": "https://localhost:8080/"
        }
      },
      "execution_count": 29,
      "outputs": [
        {
          "output_type": "stream",
          "name": "stdout",
          "text": [
            "tensor([[0.3529, 0.7437, 0.5902, 0.3182, 0.0000, 0.4169, 0.2344, 0.4833]])\n",
            "torch.Size([1, 8])\n"
          ]
        },
        {
          "output_type": "stream",
          "name": "stderr",
          "text": [
            "<ipython-input-29-835f14fb027d>:1: UserWarning: Creating a tensor from a list of numpy.ndarrays is extremely slow. Please consider converting the list to a single numpy.ndarray with numpy.array() before converting to a tensor. (Triggered internally at ../torch/csrc/utils/tensor_new.cpp:275.)\n",
            "  X_data = torch.FloatTensor([X.iloc[0,:].values])\n"
          ]
        }
      ]
    },
    {
      "cell_type": "code",
      "source": [
        "with torch.no_grad(): # без градієнтів\n",
        "  print(load_model(X_data).round().item())"
      ],
      "metadata": {
        "id": "p0pCfLRfx8ga",
        "outputId": "aa41497f-fc76-41a2-96f2-1d3fff4e956c",
        "colab": {
          "base_uri": "https://localhost:8080/"
        }
      },
      "execution_count": 30,
      "outputs": [
        {
          "output_type": "stream",
          "name": "stdout",
          "text": [
            "1.0\n"
          ]
        }
      ]
    }
  ]
}