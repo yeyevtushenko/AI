{
  "nbformat": 4,
  "nbformat_minor": 0,
  "metadata": {
    "colab": {
      "provenance": [],
      "gpuType": "T4",
      "include_colab_link": true
    },
    "kernelspec": {
      "name": "python3",
      "display_name": "Python 3"
    },
    "language_info": {
      "name": "python"
    },
    "accelerator": "GPU"
  },
  "cells": [
    {
      "cell_type": "markdown",
      "metadata": {
        "id": "view-in-github",
        "colab_type": "text"
      },
      "source": [
        "<a href=\"https://colab.research.google.com/github/yeyevtushenko/AI/blob/EXAM/%D0%95%D0%BA%D0%B7%D0%B0%D0%BC%D0%B5%D0%BD.ipynb\" target=\"_parent\"><img src=\"https://colab.research.google.com/assets/colab-badge.svg\" alt=\"Open In Colab\"/></a>"
      ]
    },
    {
      "cell_type": "markdown",
      "source": [
        "# Основні умови\n",
        "\n",
        "Студент обирає **одне завдання** на вибір, або узгоджує власний проект з викладачем. Студент повен показати розуміння роботи з даними та побудови моделі.\n",
        "\n",
        "Студент самостійно пише увесь код до початку екзамену. Під час екзамену кожен студент презентує свою роботу викладачу та відповідає на основні питання, що стосуються проекту, також можуть бути додаткові питання на кристалики\\більші бали.\n",
        "\n",
        "Робота повинна бути оформлена як готовий код, який на прохання викладача можна буде запустити або внести певні зміни. На вибір студента можна використовувати Colab чи Kaggle"
      ],
      "metadata": {
        "id": "dL3_J4uSZvPn"
      }
    },
    {
      "cell_type": "markdown",
      "source": [
        "# Завдання 1"
      ],
      "metadata": {
        "id": "pWLIiugHbK1f"
      }
    },
    {
      "cell_type": "markdown",
      "source": [
        "## [Дані](https://www.kaggle.com/datasets/antongalysh/itstep-exam/data)\n",
        "\n",
        "Дані про пацієнтів лікарні. Опис даних:\n",
        "* *case_id:* Ідентифікатор випадку, зареєстрованого в лікарні\n",
        "* *Hospital_code:* Унікальний код лікарні\n",
        "* *Hospital_type_code:* Унікальний код типу лікарні\n",
        "* *City_Code_Hospital:* Код міста, в якому знаходиться Лікарня\n",
        "* *Hospital_region_code:* Код країни, в якій знаходиться лікарня\n",
        "* *country_code:* Код області, в якій знаходиться лікарня\n",
        "* *Available Extra Rooms in Hospital:* Кількість додаткових палат, доступних у лікарні\n",
        "* *Department:* Відділення, в якому знаходиться пацієнт\n",
        "* *Ward_Type:* Код типу палати\n",
        "* *Ward_Facility_Code:* Код приміщення для палати\n",
        "* *Bed Grade:* Стан ліжка в палаті\n",
        "* *patientid:* Унікальний ідентифікатор пацієнта\n",
        "* *doctorid:* Унікальний ідентифікатор лікаря\n",
        "* *City_Code_Patient:* Код міста для пацієнта\n",
        "* *Type of Admission:* Тип госпіталізації, зареєстрований лікарнею\n",
        "* *Severity of Illness:* Тяжкість захворювання, зафіксована на момент госпіталізації\n",
        "* *Visitors with Patient:* Кількість відвідувачів з пацієнтом\n",
        "* *Age:* Вік пацієнта\n",
        "* *Admission_Deposit:* Депозит при госпіталізації\n",
        "* *Stay:* Дні перебування пацієнта в стаціонарі(цільова ознака)\n"
      ],
      "metadata": {
        "id": "gi-wgab8bPd-"
      }
    },
    {
      "cell_type": "markdown",
      "source": [
        "## Умова\n",
        "\n",
        "**Тип задачі**\n",
        "\n",
        "Модель повинна спрогнозувати кількість днів, які пацієнт провів у лікарні. Вам потрібно розв'язати цю задачу як задачу класифікації(спрогнозувати діапазон днів) та задачу регресії(спрогнозувати саму кількість днів), у випадку задачі регресії вам потрібно згенерувати нову цільову ознаку Stay_Days на основі Stay, як середнє значення діапазону.\n",
        "\n",
        "При тренуванні моделей у вас може бути лише одина ознака Stay_Days чи Stay\n",
        "\n",
        "**Провести попередній аналіз даних**\n",
        "* ознайомитись з даними, визначити які ознаки є числовими, а які категоріальні, якщо потрібно то змінити тип стовпчиків\n",
        "* перевірити дані на наявність пропущених значень, зробити висновки які дані залишити, а які видалити\n",
        "* перевірити дані на наявність викидів, при необхідності створити **нові дані** без викидів\n",
        "* вивести гістограми для числових ознак, кількість стовпчиків має бути рівна квадратному кореню з кількості рядків, дати опис гістограмам:\n",
        "  1. чи видно викиди\n",
        "  2. скільки є піків\n",
        "  3. чи зміщенна гістограма вліво\\вправо\n",
        "* вивести ящики з вусами для числових ознак, дати опис ящикам:\n",
        "  1. в якому діапазоні зосереджено 25%\\50%\\75%\\100% даних\n",
        "  2. чи є викиди\n",
        "  3. чи зміщені ящики вліво\\вправо\n",
        "* вивести гістограми з кількостями для категоріальних ознак\n",
        "* вивести групові ящики з вусами для числової та категоріальної ознаки, вказати від якої категоріальної ознаки залежить числова ознака і як саме\n",
        "* вивести точкові діаграми для числових ознак, вказати для яких числових ознак є залежність\n",
        "\n",
        "**Побудова моделі для задач класифікації та регресії**\n",
        "* при необхідності згенерувати нові ознаки\n",
        "* самостійно обрати модель для тренування або обрати за допомогою `optuna`\n",
        "* розділити **дані без викидів** на тренувальні та тестові, можливо валідаційні якщо потрібно\n",
        "* вибрати метрики для оцінки якості моделі, вибір пояснити\n",
        "* побудувати препроцесор\n",
        "* натренувати модель\n",
        "* вивести метрики для тестових даних, дати оцінку якості моделі\n",
        "* зберегти натреновану модель\n",
        "\n",
        "**Додатково**\n",
        "* порівняти результат моделі на неочищених від викидів даних\n",
        "* застосувати підбір гіперпараметрів"
      ],
      "metadata": {
        "id": "0C9Kzq_JcCDf"
      }
    },
    {
      "cell_type": "markdown",
      "source": [
        "# Попередній аналіз даних"
      ],
      "metadata": {
        "id": "JsjpqoN0JWEh"
      }
    },
    {
      "cell_type": "code",
      "source": [
        "import pandas as pd\n",
        "import numpy as np\n",
        "import matplotlib.pyplot as plt\n",
        "import seaborn as sns"
      ],
      "metadata": {
        "id": "DMLkJVPU8_NE"
      },
      "execution_count": null,
      "outputs": []
    },
    {
      "cell_type": "markdown",
      "source": [
        "## Завантаження даних"
      ],
      "metadata": {
        "id": "6UkMvADpJZb-"
      }
    },
    {
      "cell_type": "code",
      "source": [
        "data = pd.read_csv(\"data-4.csv\")\n",
        "data.head()"
      ],
      "metadata": {
        "id": "IJUYnh1YJdxg"
      },
      "execution_count": null,
      "outputs": []
    },
    {
      "cell_type": "markdown",
      "source": [
        "### Ознайомитись з даними, визначити які ознаки є числовими, а які категоріальні, якщо потрібно то змінити тип стовпчиків"
      ],
      "metadata": {
        "id": "AcoH4yNMLPbM"
      }
    },
    {
      "cell_type": "code",
      "source": [
        "data.dtypes"
      ],
      "metadata": {
        "id": "aHOjrCXILRp4"
      },
      "execution_count": null,
      "outputs": []
    },
    {
      "cell_type": "code",
      "source": [
        "data.shape"
      ],
      "metadata": {
        "id": "M_7fjtg6NcpO"
      },
      "execution_count": null,
      "outputs": []
    },
    {
      "cell_type": "markdown",
      "source": [
        "### Перевірити дані на наявність пропущених значень, зробити висновки які дані залишити, а які видалити"
      ],
      "metadata": {
        "id": "oQ3RXwqUMsoI"
      }
    },
    {
      "cell_type": "code",
      "source": [
        "data.isnull().sum()"
      ],
      "metadata": {
        "id": "SQ45p_CkMoLa"
      },
      "execution_count": null,
      "outputs": []
    },
    {
      "cell_type": "markdown",
      "source": [
        "Після перевірки даних на пропущення значнь, можна стверджувати, що стовпець doctorid потрібно видалити, так як він має близько 99% пропущених даних. Решту даних ми залишаємо"
      ],
      "metadata": {
        "id": "JYXinwy0Nuh8"
      }
    },
    {
      "cell_type": "code",
      "source": [
        "data = data.drop(columns=[\"doctorid\"], inplace=False)\n",
        "data.head()"
      ],
      "metadata": {
        "id": "EM0EK1Z0PGfT"
      },
      "execution_count": null,
      "outputs": []
    },
    {
      "cell_type": "markdown",
      "source": [
        "### Перевірити дані на наявність викидів, при необхідності створити нові дані без викидів"
      ],
      "metadata": {
        "id": "0PkckbKbPtAw"
      }
    },
    {
      "cell_type": "code",
      "source": [
        "def outliers_iqr(data, column):\n",
        "    Q1 = data[column].quantile(0.25)\n",
        "    Q3 = data[column].quantile(0.75)\n",
        "    IQR = Q3 - Q1\n",
        "    lower = Q1 - 1.5 * IQR\n",
        "    upper = Q3 + 1.5 * IQR\n",
        "    return data[(data[column] < lower) | (data[column] > upper)]\n",
        "\n",
        "# Виявлення викидів для кожної числової ознаки\n",
        "outliers = {}\n",
        "for col in data.select_dtypes(include=[\"number\"]).columns:\n",
        "    outliers[col] = outliers_iqr(data, col)\n",
        "\n",
        "# Виведення кількості викидів для кожної ознаки\n",
        "for col, out in outliers.items():\n",
        "    print(f'Кількість викидів у {col}: {len(out)}')"
      ],
      "metadata": {
        "id": "XHcXzdoHQ-Pf"
      },
      "execution_count": null,
      "outputs": []
    },
    {
      "cell_type": "markdown",
      "source": [
        "Ми бачимо, що деякі кількісні дані мають викиди,тому проведемо видалення викидів."
      ],
      "metadata": {
        "id": "BGYdujseR7Fp"
      }
    },
    {
      "cell_type": "code",
      "source": [
        "new_data = data.copy()\n",
        "\n",
        "for col in data.select_dtypes(include=[\"number\"]).columns:\n",
        "    Q1 = new_data[col].quantile(0.25)\n",
        "    Q3 = new_data[col].quantile(0.75)\n",
        "    IQR = Q3 - Q1\n",
        "    lower_bound = Q1 - 1.5 * IQR\n",
        "    upper_bound = Q3 + 1.5 * IQR\n",
        "    new_data = new_data[(new_data[col] >= lower_bound) & (new_data[col] <= upper_bound)]\n",
        "\n",
        "# Перевірка розмірів початкових даних та даних без викидів\n",
        "print(f'Початковий розмір даних: {data.shape}')\n",
        "print(f'Розмір даних без викидів: {new_data.shape}')"
      ],
      "metadata": {
        "id": "4qMsVcDoSLr3"
      },
      "execution_count": null,
      "outputs": []
    },
    {
      "cell_type": "code",
      "source": [
        "data = new_data\n",
        "data.shape"
      ],
      "metadata": {
        "id": "tu0NwJ7PSic6"
      },
      "execution_count": null,
      "outputs": []
    },
    {
      "cell_type": "code",
      "source": [
        "data.head()"
      ],
      "metadata": {
        "id": "WaSzEZfRSmds"
      },
      "execution_count": null,
      "outputs": []
    },
    {
      "cell_type": "markdown",
      "source": [
        "### Вивести гістограми для числових ознак, кількість стовпчиків має бути рівна квадратному кореню з кількості рядків, дати опис гістограмам:\n",
        "* чи видно викиди\n",
        "* скільки є піків\n",
        "* чи зміщенна гістограма вліво\\вправо"
      ],
      "metadata": {
        "id": "bJbanpWOSLOZ"
      }
    },
    {
      "cell_type": "code",
      "source": [
        "max_bins = int(np.sqrt(data.shape[0]))\n",
        "\n",
        "print(f\"Кількість бінів для гістограм: {max_bins}\")"
      ],
      "metadata": {
        "id": "8-iTvVsiTJSp"
      },
      "execution_count": null,
      "outputs": []
    },
    {
      "cell_type": "code",
      "source": [
        "fig, axes = plt.subplots(len(data.select_dtypes(include=[\"number\"]).columns), 1, figsize=(10, 40))\n",
        "\n",
        "for i, col in enumerate(data.select_dtypes(include=[\"number\"]).columns):\n",
        "    ax = axes[i]\n",
        "    bins = min(data[data.select_dtypes(include=[\"number\"]).columns].nunique()[col], max_bins)\n",
        "    sns.histplot(data[col], bins=bins, ax=ax)\n",
        "    ax.set_title(f\"Гісторрама {col} з {bins} стовпцями\")\n",
        "    ax.set_xlabel(col)\n",
        "    ax.set_ylabel(\"Кількість\")\n",
        "\n",
        "plt.tight_layout()\n",
        "plt.show()"
      ],
      "metadata": {
        "id": "u3aWNx99UKJh"
      },
      "execution_count": null,
      "outputs": []
    },
    {
      "cell_type": "markdown",
      "source": [
        "З даних графіків можемо сказати, що більшість даних не мають викидів, тому що в попередньому етапі було їхнє вданалення. Частина грфіків симетрична, а деякі мають зміження або вліво або вправо. Кількість бінів дорівнює кільксті унікальних значень даних"
      ],
      "metadata": {
        "id": "fvfYB2HSXRAq"
      }
    },
    {
      "cell_type": "markdown",
      "source": [
        "### Вивести ящики з вусами для числових ознак, дати опис ящикам:\n",
        "* в якому діапазоні зосереджено 25%\\50%\\75%\\100% даних\n",
        "* чи є викиди\n",
        "* чи зміщені ящики вліво\\вправо"
      ],
      "metadata": {
        "id": "4o629SbHaZXf"
      }
    },
    {
      "cell_type": "code",
      "source": [
        "fig, axes = plt.subplots(len(data.select_dtypes(include=[\"number\"]).columns), 1, figsize=(10, 50))\n",
        "\n",
        "for i, col in enumerate(data.select_dtypes(include=[\"number\"]).columns):\n",
        "    ax = axes[i]\n",
        "    sns.boxplot(x=data[col], ax=ax)\n",
        "    ax.set_title(f\"Ящик з вусами {col}\")\n",
        "    ax.set_xlabel(col)\n",
        "\n",
        "    # Кількість даних у квантилях\n",
        "    Q1 = data[col].quantile(0.25)\n",
        "    Q2 = data[col].quantile(0.5)\n",
        "    Q3 = data[col].quantile(0.75)\n",
        "    min = data[col].min()\n",
        "    max = data[col].max()\n",
        "\n",
        "    num = len(data[col])\n",
        "    q_25 = len(data[(data[col] > min) & (data[col] <= Q1)])\n",
        "    q_50 = len(data[(data[col] > Q1) & (data[col] <= Q2)])\n",
        "    q_75 = len(data[(data[col] > Q2) & (data[col] <= Q3)])\n",
        "    q_100 = len(data[(data[col] > Q3) & (data[col] <= max)])\n",
        "\n",
        "    print(f'\\n{col}:')\n",
        "    print(f'Кількість даних у 25% квантилі: {q_25}')\n",
        "    print(f'Кількість даних у 50% квантилі: {q_50}')\n",
        "    print(f'Кількість даних у 75% квантилі: {q_75}')\n",
        "    print(f'Кількість даних у 100% квантилі: {q_100}')\n",
        "plt.tight_layout()\n",
        "plt.show()"
      ],
      "metadata": {
        "id": "oY8fv9KTanmK",
        "colab": {
          "base_uri": "https://localhost:8080/",
          "height": 1000
        },
        "outputId": "0d96ca5f-d83e-4b70-e464-febdbf0533ef"
      },
      "execution_count": 57,
      "outputs": [
        {
          "output_type": "stream",
          "name": "stdout",
          "text": [
            "\n",
            "Unnamed: 0:\n",
            "Кількість даних у 25% квантилі: 67051\n",
            "Кількість даних у 50% квантилі: 67051\n",
            "Кількість даних у 75% квантилі: 67051\n",
            "Кількість даних у 100% квантилі: 67052\n",
            "\n",
            "case_id:\n",
            "Кількість даних у 25% квантилі: 67051\n",
            "Кількість даних у 50% квантилі: 67051\n",
            "Кількість даних у 75% квантилі: 67051\n",
            "Кількість даних у 100% квантилі: 67052\n",
            "\n",
            "Hospital_code:\n",
            "Кількість даних у 25% квантилі: 68766\n",
            "Кількість даних у 50% квантилі: 65468\n",
            "Кількість даних у 75% квантилі: 76176\n",
            "Кількість даних у 100% квантилі: 53297\n",
            "\n",
            "City_Code_Hospital:\n",
            "Кількість даних у 25% квантилі: 42775\n",
            "Кількість даних у 50% квантилі: 63095\n",
            "Кількість даних у 75% квантилі: 71460\n",
            "Кількість даних у 100% квантилі: 44252\n",
            "\n",
            "Available Extra Rooms in Hospital:\n",
            "Кількість даних у 25% квантилі: 87502\n",
            "Кількість даних у 50% квантилі: 77792\n",
            "Кількість даних у 75% квантилі: 77778\n",
            "Кількість даних у 100% квантилі: 25119\n",
            "\n",
            "Bed Grade:\n",
            "Кількість даних у 25% квантилі: 107194\n",
            "Кількість даних у 50% квантилі: 91362\n",
            "Кількість даних у 75% квантилі: 0\n",
            "Кількість даних у 100% квантилі: 46422\n",
            "\n",
            "patientid:\n",
            "Кількість даних у 25% квантилі: 67051\n",
            "Кількість даних у 50% квантилі: 67048\n",
            "Кількість даних у 75% квантилі: 67052\n",
            "Кількість даних у 100% квантилі: 67051\n",
            "\n",
            "City_Code_Patient:\n",
            "Кількість даних у 25% квантилі: 53808\n",
            "Кількість даних у 50% квантилі: 161459\n",
            "Кількість даних у 75% квантилі: 0\n",
            "Кількість даних у 100% квантилі: 28738\n",
            "\n",
            "Visitors with Patient:\n",
            "Кількість даних у 25% квантилі: 121856\n",
            "Кількість даних у 50% квантилі: 51648\n",
            "Кількість даних у 75% квантилі: 68740\n",
            "Кількість даних у 100% квантилі: 25946\n",
            "\n",
            "Admission_Deposit:\n",
            "Кількість даних у 25% квантилі: 67088\n",
            "Кількість даних у 50% квантилі: 67100\n",
            "Кількість даних у 75% квантилі: 66998\n",
            "Кількість даних у 100% квантилі: 67019\n",
            "\n",
            "country_code:\n",
            "Кількість даних у 25% квантилі: 0\n",
            "Кількість даних у 50% квантилі: 0\n",
            "Кількість даних у 75% квантилі: 0\n",
            "Кількість даних у 100% квантилі: 0\n",
            "\n",
            "Stay_Days:\n",
            "Кількість даних у 25% квантилі: 68018\n",
            "Кількість даних у 50% квантилі: 76000\n",
            "Кількість даних у 75% квантилі: 46900\n",
            "Кількість даних у 100% квантилі: 56952\n"
          ]
        },
        {
          "output_type": "display_data",
          "data": {
            "text/plain": [
              "<Figure size 1000x5000 with 12 Axes>"
            ],
            "image/png": "[encoded data removed]"
          },
          "metadata": {}
        }
      ]
    },
    {
      "cell_type": "markdown",
      "source": [
        "Unnamed: 0:\n",
        "- Кількість даних у 25% квантилі: 67051\n",
        "- Кількість даних у 50% квантилі: 67051\n",
        "- Кількість даних у 75% квантилі: 67051\n",
        "- Кількість даних у 100% квантилі: 67052\n",
        "- Викиди відсутні\n",
        "- Зміщень немає\n",
        "\n",
        "case_id:\n",
        "- Кількість даних у 25% квантилі: 67051\n",
        "- Кількість даних у 50% квантилі: 67051\n",
        "- Кількість даних у 75% квантилі: 67051\n",
        "- Кількість даних у 100% квантилі: 67052\n",
        "- Викиди відсутні\n",
        "- Зміщень немає\n",
        "\n",
        "\n",
        "Hospital_code:\n",
        "- Кількість даних у 25% квантилі: 68766\n",
        "- Кількість даних у 50% квантилі: 65468\n",
        "- Кількість даних у 75% квантилі: 76176\n",
        "- Кількість даних у 100% квантилі: 53297\n",
        "- Викиди відсутні\n",
        "- Трохи зміжений вправо\n",
        "\n",
        "City_Code_Hospital:\n",
        "- Кількість даних у 25% квантилі: 42775\n",
        "- Кількість даних у 50% квантилі: 63095\n",
        "- Кількість даних у 75% квантилі: 71460\n",
        "- Кількість даних у 100% квантилі: 44252\n",
        "- Викиди відсутні\n",
        "- Зміщений вліво\n",
        "\n",
        "Available Extra Rooms in Hospital:\n",
        "- Кількість даних у 25% квантилі: 87502\n",
        "- Кількість даних у 50% квантилі: 77792\n",
        "- Кількість даних у 75% квантилі: 77778\n",
        "- Кількість даних у 100% квантилі: 25119\n",
        "- Викиди відсутні\n",
        "- Трохи зміжений вліво\n",
        "\n",
        "Bed Grade:\n",
        "- Кількість даних у 25% квантилі: 107194\n",
        "- Кількість даних у 50% квантилі: 91362\n",
        "- Кількість даних у 75% квантилі: 0\n",
        "- Кількість даних у 100% квантилі: 46422\n",
        "- Викиди відсутні\n",
        "- Зміщень немає\n",
        "\n",
        "patientid:\n",
        "- Кількість даних у 25% квантилі: 67051\n",
        "- Кількість даних у 50% квантилі: 67048\n",
        "- Кількість даних у 75% квантилі: 67052\n",
        "- Кількість даних у 100% квантилі: 67051\n",
        "- Викиди відсутні\n",
        "- Зміщень немає\n",
        "\n",
        "City_Code_Patient:\n",
        "- Кількість даних у 25% квантилі: 53808\n",
        "- Кількість даних у 50% квантилі: 161459\n",
        "- Кількість даних у 75% квантилі: 0\n",
        "- Кількість даних у 100% квантилі: 28738\n",
        "- Викиди відсутні\n",
        "- Зміщений вліво\n",
        "\n",
        "Visitors with Patient:\n",
        "- Кількість даних у 25% квантилі: 121856\n",
        "- Кількість даних у 50% квантилі: 51648\n",
        "- Кількість даних у 75% квантилі: 68740\n",
        "- Кількість даних у 100% квантилі: 25946\n",
        "- Викиди відсутні\n",
        "- Зміщений вліво\n",
        "\n",
        "Admission_Deposit:\n",
        "- Кількість даних у 25% квантилі: 67088\n",
        "- Кількість даних у 50% квантилі: 67100\n",
        "- Кількість даних у 75% квантилі: 66998\n",
        "- Кількість даних у 100% квантилі: 67019\n",
        "- Викиди присутні\n",
        "- Трохи зміщений вправо\n",
        "\n",
        "country_code:\n",
        "- Кількість даних у 25% квантилі: 0\n",
        "- Кількість даних у 50% квантилі: 0\n",
        "- Кількість даних у 75% квантилі: 0\n",
        "- Кількість даних у 100% квантилі: 0\n",
        "- Викиди відсутні\n",
        "- Зміщень немає"
      ],
      "metadata": {
        "id": "FvGTVww9cN_5"
      }
    },
    {
      "cell_type": "markdown",
      "source": [
        "### Вивести гістограми з кількостями для категоріальних ознак"
      ],
      "metadata": {
        "id": "NlV_9I65eGOZ"
      }
    },
    {
      "cell_type": "code",
      "source": [
        "fig, axes = plt.subplots(len(data.select_dtypes(include=[\"object\", \"category\"]).columns), 1, figsize=(10, 50))\n",
        "\n",
        "for i, col in enumerate(data.select_dtypes(include=[\"object\", \"category\"]).columns):\n",
        "    ax = axes[i]\n",
        "    sns.countplot(x=data[col], ax=ax)\n",
        "    ax.set_title(f'Count Plot of {col}')\n",
        "    ax.set_xlabel(col)\n",
        "    ax.set_ylabel('Count')\n",
        "    ax.tick_params(axis='x', rotation=90)\n",
        "\n",
        "plt.tight_layout()\n",
        "plt.show()"
      ],
      "metadata": {
        "id": "xw8647y7ejP6"
      },
      "execution_count": null,
      "outputs": []
    },
    {
      "cell_type": "markdown",
      "source": [
        "### Вивести групові ящики з вусами для числової та категоріальної ознаки, вказати від якої категоріальної ознаки залежить числова ознака і як саме"
      ],
      "metadata": {
        "id": "PnBCmvhpf3TK"
      }
    },
    {
      "cell_type": "markdown",
      "source": [
        "Для правильного вибору залежних даних використаємо аналіз варіацій(ANOVA)"
      ],
      "metadata": {
        "id": "NU4XYMGTiJ0Z"
      }
    },
    {
      "cell_type": "code",
      "source": [
        "from scipy.stats import f_oneway"
      ],
      "metadata": {
        "id": "LnC_QxQokayw"
      },
      "execution_count": null,
      "outputs": []
    },
    {
      "cell_type": "code",
      "source": [
        "numerical_columns = data.select_dtypes(include=['number']).columns\n",
        "categorical_columns = data.select_dtypes(include=(['object', 'category'])).columns\n",
        "\n",
        "def anova_test(numerical_feature, categorical_feature, data):\n",
        "    categories = data[categorical_feature].unique()\n",
        "    groups = [data[data[categorical_feature] == category][numerical_feature].dropna() for category in categories]\n",
        "    anova_result = f_oneway(*groups)\n",
        "\n",
        "    return numerical_feature, categorical_feature, anova_result.statistic, anova_result.pvalue\n",
        "\n",
        "results = []\n",
        "\n",
        "for num_col in numerical_columns:\n",
        "    for cat_col in categorical_columns:\n",
        "        result = anova_test(num_col, cat_col, data)\n",
        "        results.append(result)\n",
        "\n",
        "for numerical_feature, categorical_feature, f_statistic, p_value in results:\n",
        "    print(f'Результат тесту ANOVA для {numerical_feature} залежно від {categorical_feature}:')\n",
        "    print(f'F-статистика: {f_statistic}, p-значення: {p_value}')\n",
        "    if p_value < 0.05:\n",
        "        print(f'{numerical_feature} значно залежить від {categorical_feature} (відхиляємо H0)')\n",
        "    else:\n",
        "        print(f'{numerical_feature} не значно залежить від {categorical_feature} (не відхиляємо H0)')\n",
        "    print('-' * 50)"
      ],
      "metadata": {
        "id": "WcI2f_N_jl9u"
      },
      "execution_count": null,
      "outputs": []
    },
    {
      "cell_type": "code",
      "source": [
        "numerical_feature = \"Admission_Deposit\"\n",
        "categorical_feature = \"Department\"\n",
        "\n",
        "plt.figure(figsize=(12, 8))\n",
        "sns.boxplot(x=data[categorical_feature], y=data[numerical_feature])\n",
        "plt.title(f\"Груповий ящик для {numerical_feature} за {categorical_feature}\")\n",
        "plt.xlabel(categorical_feature)\n",
        "plt.ylabel(numerical_feature)\n",
        "plt.xticks(rotation=90)\n",
        "plt.show()"
      ],
      "metadata": {
        "id": "8GguNvUdl4wC",
        "colab": {
          "base_uri": "https://localhost:8080/",
          "height": 838
        },
        "outputId": "ff6ce05d-2f9f-43d5-e073-d6af0257da92"
      },
      "execution_count": 58,
      "outputs": [
        {
          "output_type": "display_data",
          "data": {
            "text/plain": [
              "<Figure size 1200x800 with 1 Axes>"
            ],
            "image/png": "[encoded data removed]"
          },
          "metadata": {}
        }
      ]
    },
    {
      "cell_type": "markdown",
      "source": [
        "Спочатку ми провели тест ANOVA щоб знайти залежність між даними, але якщо відхили наші результати, а лише робити припущення, то зв'язок дійсно має бути, так як депозити при госпіталізації можуть значно варіюватися залежно від відділення через різну вартість процедур, використання обладнання, рівень кваліфікації персоналу, тощо."
      ],
      "metadata": {
        "id": "6rr5nk9Zm0cl"
      }
    },
    {
      "cell_type": "markdown",
      "source": [
        "#### Для всіх по всіх"
      ],
      "metadata": {
        "id": "9n9AfnCwg3iD"
      }
    },
    {
      "cell_type": "code",
      "source": [
        "# numerical_columns = data.select_dtypes(include=[\"number\"]).columns\n",
        "# categorical_columns = data.select_dtypes(include=[\"object\", \"category\"]).columns\n",
        "\n",
        "# numerical_columns, categorical_columns"
      ],
      "metadata": {
        "id": "3a1dt-y4f44T"
      },
      "execution_count": null,
      "outputs": []
    },
    {
      "cell_type": "code",
      "source": [
        "# for num_col in numerical_columns:\n",
        "#     for cat_col in categorical_columns:\n",
        "#         plt.figure(figsize=(12, 8))\n",
        "#         sns.boxplot(x=data[cat_col], y=data[num_col])\n",
        "#         plt.title(f'Ящик з вусами за {num_col} для {cat_col}')\n",
        "#         plt.xlabel(cat_col)\n",
        "#         plt.ylabel(num_col)\n",
        "#         plt.xticks(rotation=90)\n",
        "#         plt.show()"
      ],
      "metadata": {
        "id": "vk0pVYrigLbt"
      },
      "execution_count": null,
      "outputs": []
    },
    {
      "cell_type": "markdown",
      "source": [
        "### Вивести точкові діаграми для числових ознак, вказати для яких числових ознак є залежність"
      ],
      "metadata": {
        "id": "rImLS_QGnqbi"
      }
    },
    {
      "cell_type": "code",
      "source": [
        "for i, col1 in enumerate(numerical_columns):\n",
        "    for col2 in numerical_columns[i+1:]:\n",
        "        plt.figure(figsize=(10, 6))\n",
        "        sns.scatterplot(x=data[col1], y=data[col2])\n",
        "        plt.title(f'Точкова діаграма для {col1} та {col2}')\n",
        "        plt.xlabel(col1)\n",
        "        plt.ylabel(col2)\n",
        "        plt.show()"
      ],
      "metadata": {
        "id": "QYXt1DzRtCDD"
      },
      "execution_count": null,
      "outputs": []
    },
    {
      "cell_type": "code",
      "source": [
        "correlation_matrix = data[numerical_columns].corr(method='pearson')\n",
        "\n",
        "plt.figure(figsize=(12, 10))\n",
        "sns.heatmap(correlation_matrix, annot=True, fmt=\".2f\", cmap='coolwarm', cbar=True)\n",
        "plt.title('Матриця кореляції для числових ознак')\n",
        "plt.show()"
      ],
      "metadata": {
        "id": "lqS_gg-7zFSA"
      },
      "execution_count": null,
      "outputs": []
    },
    {
      "cell_type": "markdown",
      "source": [
        "На матриці кореляції наведено залежність числових ознак"
      ],
      "metadata": {
        "id": "uMNQHWYyzUEU"
      }
    },
    {
      "cell_type": "markdown",
      "source": [
        "# Побудова моделі для задач класифікації та регресії"
      ],
      "metadata": {
        "id": "SI5cvbki0Ta-"
      }
    },
    {
      "cell_type": "markdown",
      "source": [
        "## Генеруція нової цільової ознаки Stay_Days на основі Stay, як середнє значення діапазону"
      ],
      "metadata": {
        "id": "EMQmY-e60_08"
      }
    },
    {
      "cell_type": "code",
      "source": [
        "data[\"Stay\"].head()"
      ],
      "metadata": {
        "id": "o50Sdir00wCR"
      },
      "execution_count": null,
      "outputs": []
    },
    {
      "cell_type": "code",
      "source": [
        "def calculate_mean_days(stay_range):\n",
        "    if stay_range == 'More than 100 Days':\n",
        "        return 101 # Більше 100 днів\n",
        "    days = stay_range.split('-')\n",
        "    return (int(days[0]) + int(days[1])) / 2\n",
        "\n",
        "data['Stay_Days'] = data['Stay'].apply(calculate_mean_days)\n",
        "\n",
        "data[['Stay', 'Stay_Days']].head()"
      ],
      "metadata": {
        "id": "P5CgpxDV1MhM"
      },
      "execution_count": null,
      "outputs": []
    },
    {
      "cell_type": "markdown",
      "source": [
        "## Лінійна регресія"
      ],
      "metadata": {
        "id": "PIUUkduY3GE1"
      }
    },
    {
      "cell_type": "code",
      "source": [
        "from sklearn.model_selection import train_test_split, GridSearchCV\n",
        "\n",
        "target_regression = 'Stay_Days'"
      ],
      "metadata": {
        "id": "dd-V6nRu3I9Q"
      },
      "execution_count": null,
      "outputs": []
    },
    {
      "cell_type": "markdown",
      "source": [
        "### Визначення числових і категоріальних ознак"
      ],
      "metadata": {
        "id": "Dw76KGdt3RS3"
      }
    },
    {
      "cell_type": "code",
      "source": [
        "numerical_features = data.select_dtypes(include=['number']).columns.drop(['Stay_Days'])\n",
        "categorical_features = data.select_dtypes(include=['object', 'category']).columns.drop(['Stay'])"
      ],
      "metadata": {
        "id": "6JCvgdoe3VwQ"
      },
      "execution_count": null,
      "outputs": []
    },
    {
      "cell_type": "markdown",
      "source": [
        "### Розділення даних"
      ],
      "metadata": {
        "id": "VYyWGQaK3Y4e"
      }
    },
    {
      "cell_type": "code",
      "source": [
        "X = data.drop(columns=[target_regression, 'Stay'])\n",
        "y_regression = data[target_regression]\n",
        "\n",
        "X_train_reg, X_test_reg, y_train_reg, y_test_reg = train_test_split(X, y_regression, test_size=0.8, random_state=42)"
      ],
      "metadata": {
        "id": "O5R7q8oH3arS"
      },
      "execution_count": null,
      "outputs": []
    },
    {
      "cell_type": "markdown",
      "source": [
        "### Побудова та тренування лінійної регресії"
      ],
      "metadata": {
        "id": "gqxs7tnF36aB"
      }
    },
    {
      "cell_type": "code",
      "source": [
        "from sklearn.linear_model import LinearRegression\n",
        "from sklearn.preprocessing import StandardScaler, OneHotEncoder\n",
        "from sklearn.compose import ColumnTransformer\n",
        "from sklearn.pipeline import Pipeline"
      ],
      "metadata": {
        "id": "xYfaEMlh4H6q"
      },
      "execution_count": null,
      "outputs": []
    },
    {
      "cell_type": "markdown",
      "source": [
        "### Побудова препроцесора"
      ],
      "metadata": {
        "id": "tYHoUkkU4CkK"
      }
    },
    {
      "cell_type": "code",
      "source": [
        "preprocessor = ColumnTransformer(\n",
        "    transformers=[\n",
        "        ('num', StandardScaler(), numerical_features),\n",
        "        ('cat', OneHotEncoder(handle_unknown='ignore'), categorical_features)\n",
        "    ]\n",
        ")\n",
        "preprocessor"
      ],
      "metadata": {
        "id": "qXuinPCs4FF4"
      },
      "execution_count": null,
      "outputs": []
    },
    {
      "cell_type": "markdown",
      "source": [
        "### Побудова моделі регресії"
      ],
      "metadata": {
        "id": "2wB7cCJ44L43"
      }
    },
    {
      "cell_type": "code",
      "source": [
        "reg_pipeline = Pipeline(steps=[\n",
        "    ('preprocessor', preprocessor),\n",
        "    ('regressor', LinearRegression())\n",
        "])\n",
        "reg_pipeline"
      ],
      "metadata": {
        "id": "Tge_xpIS4NnH"
      },
      "execution_count": null,
      "outputs": []
    },
    {
      "cell_type": "markdown",
      "source": [
        "### Тренування моделі регресії"
      ],
      "metadata": {
        "id": "JlmMvXgv4SZh"
      }
    },
    {
      "cell_type": "code",
      "source": [
        "reg_pipeline.fit(X_train_reg, y_train_reg)"
      ],
      "metadata": {
        "id": "H_SWD-c84U-l"
      },
      "execution_count": null,
      "outputs": []
    },
    {
      "cell_type": "markdown",
      "source": [
        "### Оцінка якості моделі регресії"
      ],
      "metadata": {
        "id": "hagi6zhD4bJ4"
      }
    },
    {
      "cell_type": "markdown",
      "source": [
        "Середньоквадратична помилка (Mean Squared Error, MSE)\n",
        "\n",
        "- Опис: MSE вимірює середнє квадратичне відхилення прогнозованих значень від фактичних значень. Вона сильно штрафує великі відхилення, оскільки квадрат різниці збільшує вплив великих помилок.\n",
        "- Використання: MSE використовується для оцінки точності регресійної моделі. Низьке значення MSE вказує на те, що прогнозовані значення близькі до фактичних значень.\n",
        "\n",
        "R-квадрат (R-squared)\n",
        "\n",
        "- Опис: R-квадрат, також відомий як коефіцієнт детермінації, вимірює частку варіації у вихідних даних, яку може пояснити модель. Значення R-квадрат варіюється від 0 до 1, де 1 означає, що модель повністю пояснює варіацію у вихідних даних.\n",
        "- Використання: R-квадрат показує, наскільки добре модель пояснює залежність вихідних даних від вхідних змінних. Високе значення R-квадрат вказує на те, що модель добре підходить для даних."
      ],
      "metadata": {
        "id": "KWSe-H8NBIsK"
      }
    },
    {
      "cell_type": "code",
      "source": [
        "from sklearn.metrics import mean_squared_error, r2_score\n",
        "\n",
        "y_pred_reg = reg_pipeline.predict(X_test_reg)\n",
        "mse = mean_squared_error(y_test_reg, y_pred_reg)\n",
        "r2 = r2_score(y_test_reg, y_pred_reg)\n",
        "\n",
        "print(f'Метрики для регресійної моделі:')\n",
        "print(f'MSE: {mse}')\n",
        "print(f'R-квадрат: {r2}')"
      ],
      "metadata": {
        "id": "eRfrD5nD4kQb"
      },
      "execution_count": null,
      "outputs": []
    },
    {
      "cell_type": "markdown",
      "source": [
        "- Середньоквадратична помилка (MSE): Вимірює середнє квадратичне відхилення прогнозованих значень від фактичних значень. Використовується для оцінки точності моделі.\n",
        "- R-квадрат (R-squared): Вимірює частку варіації, яку може пояснити модель. Використовується для оцінки того, наскільки добре модель підходить для даних."
      ],
      "metadata": {
        "id": "Y47mmNd_BpLH"
      }
    },
    {
      "cell_type": "markdown",
      "source": [
        "Загалом модель вийшла не дуже, тому щоб покращити метрики використаємо оптимізацію гіперпараметрів"
      ],
      "metadata": {
        "id": "xxw6qYwKFS2Z"
      }
    },
    {
      "cell_type": "markdown",
      "source": [
        "### Налаштування гіперпараметрів для GridSearchCV"
      ],
      "metadata": {
        "id": "HESY8KM2Fxo9"
      }
    },
    {
      "cell_type": "code",
      "source": [
        "param_grid = {\n",
        "    'regressor__fit_intercept': [True, False],\n",
        "    'regressor__copy_X': [True, False],\n",
        "    'regressor__positive': [True, False]\n",
        "}\n",
        "\n",
        "param_grid"
      ],
      "metadata": {
        "id": "7M_8RVHyFp6J"
      },
      "execution_count": null,
      "outputs": []
    },
    {
      "cell_type": "markdown",
      "source": [
        "### Використання GridSearchCV для пошуку найкращих гіперпараметрів"
      ],
      "metadata": {
        "id": "vRYOSPKmF6D2"
      }
    },
    {
      "cell_type": "code",
      "source": [
        "grid_search = GridSearchCV(reg_pipeline, param_grid, cv=5, scoring='r2', n_jobs=-1)"
      ],
      "metadata": {
        "id": "EuhaVamyF7Dg"
      },
      "execution_count": null,
      "outputs": []
    },
    {
      "cell_type": "markdown",
      "source": [
        "### Тренування моделі з GridSearchCV"
      ],
      "metadata": {
        "id": "Y_tnqnH8GCzE"
      }
    },
    {
      "cell_type": "code",
      "source": [
        "grid_search.fit(X_train_reg, y_train_reg)"
      ],
      "metadata": {
        "id": "oVKsbvIzGGeD"
      },
      "execution_count": null,
      "outputs": []
    },
    {
      "cell_type": "markdown",
      "source": [
        "### Найкращі гіперпараметри"
      ],
      "metadata": {
        "id": "2wuHOzHtGFsZ"
      }
    },
    {
      "cell_type": "code",
      "source": [
        "best_params = grid_search.best_params_\n",
        "print(f'Найкращі гіперпараметри: {best_params}')"
      ],
      "metadata": {
        "id": "Tv35UOL2G4jZ"
      },
      "execution_count": null,
      "outputs": []
    },
    {
      "cell_type": "markdown",
      "source": [
        "### Найкраща модель"
      ],
      "metadata": {
        "id": "GF8SXnG1HETZ"
      }
    },
    {
      "cell_type": "code",
      "source": [
        "best_model = grid_search.best_estimator_"
      ],
      "metadata": {
        "id": "Ax7PMnkRHGHg"
      },
      "execution_count": null,
      "outputs": []
    },
    {
      "cell_type": "markdown",
      "source": [
        "### Оцінка моделі з оптимізованими гіперпараметрами"
      ],
      "metadata": {
        "id": "j9kPGSyKHdg1"
      }
    },
    {
      "cell_type": "code",
      "source": [
        "y_pred_reg = best_model.predict(X_test_reg)\n",
        "mse = mean_squared_error(y_test_reg, y_pred_reg)\n",
        "r2 = r2_score(y_test_reg, y_pred_reg)\n",
        "\n",
        "print(f'Метрики для оптимізованої регресійної моделі:')\n",
        "print(f'MSE: {mse}')\n",
        "print(f'R-квадрат: {r2}')"
      ],
      "metadata": {
        "id": "B7jht-VFHeWc"
      },
      "execution_count": null,
      "outputs": []
    },
    {
      "cell_type": "markdown",
      "source": [
        "### Збереження моделі лінійної регресії"
      ],
      "metadata": {
        "id": "XM19_QGT4vEO"
      }
    },
    {
      "cell_type": "code",
      "source": [
        "import joblib\n",
        "\n",
        "joblib.dump(reg_pipeline, 'regression_model.pkl')\n",
        "joblib.dump(best_model, 'optimized_regression_model.pkl')"
      ],
      "metadata": {
        "id": "kWtHV3zJ41Na"
      },
      "execution_count": null,
      "outputs": []
    },
    {
      "cell_type": "markdown",
      "source": [
        "## Класифікація"
      ],
      "metadata": {
        "id": "_vsw8PFj7JpK"
      }
    },
    {
      "cell_type": "code",
      "source": [
        "target_classification = 'Stay'"
      ],
      "metadata": {
        "id": "_l9LEGLL7OAL"
      },
      "execution_count": 59,
      "outputs": []
    },
    {
      "cell_type": "markdown",
      "source": [
        "### Розділення даних"
      ],
      "metadata": {
        "id": "RbSM-i5T7Sc7"
      }
    },
    {
      "cell_type": "code",
      "source": [
        "X = data.drop(columns=[target_classification, 'Stay_Days'])\n",
        "y_classification = data[target_classification]\n",
        "\n",
        "X_train_clf, X_test_clf, y_train_clf, y_test_clf = train_test_split(X, y_classification, test_size=0.8, random_state=42)"
      ],
      "metadata": {
        "id": "JD0VzIYA7U87"
      },
      "execution_count": null,
      "outputs": []
    },
    {
      "cell_type": "markdown",
      "source": [
        "### Побудова та тренування моделі класифікації"
      ],
      "metadata": {
        "id": "7yUhQiX27f9K"
      }
    },
    {
      "cell_type": "code",
      "source": [
        "from sklearn.linear_model import LogisticRegression"
      ],
      "metadata": {
        "id": "iZSYnIo67hFC"
      },
      "execution_count": null,
      "outputs": []
    },
    {
      "cell_type": "markdown",
      "source": [
        "### Побудова моделі класифікації"
      ],
      "metadata": {
        "id": "MHX0H5QX7x8d"
      }
    },
    {
      "cell_type": "code",
      "source": [
        "clf_pipeline = Pipeline(steps=[\n",
        "    ('preprocessor', preprocessor),\n",
        "    ('classifier', LogisticRegression(max_iter=1000, random_state=42))\n",
        "])\n",
        "clf_pipeline"
      ],
      "metadata": {
        "id": "5aLTGFSn70Pp"
      },
      "execution_count": null,
      "outputs": []
    },
    {
      "cell_type": "markdown",
      "source": [
        "### Тренування моделі класифікації"
      ],
      "metadata": {
        "id": "xKkjFkoS8PYB"
      }
    },
    {
      "cell_type": "code",
      "source": [
        "clf_pipeline.fit(X_train_clf, y_train_clf)"
      ],
      "metadata": {
        "id": "6_9MXtEj8QkZ"
      },
      "execution_count": null,
      "outputs": []
    },
    {
      "cell_type": "markdown",
      "source": [
        "- Точність (Accuracy): Хороша для загальної оцінки моделі, коли класи збалансовані.\n",
        "- F1-міра (F1-score): Корисна, коли класи незбалансовані або коли важливо враховувати як помилкові позитивні, так і помилкові негативні прогнози."
      ],
      "metadata": {
        "id": "mcW73Ar0BzaZ"
      }
    },
    {
      "cell_type": "markdown",
      "source": [
        "### Оцінка якості моделі класифікації"
      ],
      "metadata": {
        "id": "JA4R7nJu7620"
      }
    },
    {
      "cell_type": "markdown",
      "source": [
        "Точність (Accuracy)\n",
        "\n",
        "- Опис: Точність вимірює частку правильних прогнозів серед загальної кількості прогнозів.\n",
        "- Використання: Точність є базовою метрикою, яка добре працює, коли класи є збалансованими. Вона показує, як часто модель робить правильні передбачення.\n",
        "\n",
        "F1-міра (F1-score)\n",
        "\n",
        "- Опис: F1-міра є середньозваженим гармонійним середнім точності (precision) і повноти (recall). Вона використовується, коли важливо враховувати як кількість правильно передбачених позитивних прикладів, так і кількість помилково пропущених позитивних прикладів.\n",
        "- Використання: F1-міра корисна, коли класи незбалансовані або коли важливіше враховувати як помилкові позитивні, так і помилкові негативні прогнози."
      ],
      "metadata": {
        "id": "6UIYlhr2CNKC"
      }
    },
    {
      "cell_type": "code",
      "source": [
        "from sklearn.metrics import accuracy_score, f1_score\n",
        "\n",
        "y_pred_clf = clf_pipeline.predict(X_test_clf)\n",
        "accuracy = accuracy_score(y_test_clf, y_pred_clf)\n",
        "f1 = f1_score(y_test_clf, y_pred_clf, average='weighted')\n",
        "\n",
        "print(f'Метрики для класифікаційної моделі:')\n",
        "print(f'Точність: {accuracy}')\n",
        "print(f'F1-міра: {f1}')"
      ],
      "metadata": {
        "id": "6Ov80Snd78yG"
      },
      "execution_count": null,
      "outputs": []
    },
    {
      "cell_type": "markdown",
      "source": [
        "- Точність (Accuracy): Хороша для загальної оцінки моделі, коли класи збалансовані.\n",
        "- F1-міра (F1-score): Корисна, коли класи незбалансовані або коли важливо враховувати як помилкові позитивні, так і помилкові негативні прогнози."
      ],
      "metadata": {
        "id": "Cj_7tjjwCG2E"
      }
    },
    {
      "cell_type": "markdown",
      "source": [
        "### Збереження моделі класифікації"
      ],
      "metadata": {
        "id": "SkNNAjvGALs1"
      }
    },
    {
      "cell_type": "code",
      "source": [
        "joblib.dump(clf_pipeline, 'clasification_model.pkl')"
      ],
      "metadata": {
        "id": "9zSCQHcXAMgJ"
      },
      "execution_count": null,
      "outputs": []
    },
    {
      "cell_type": "markdown",
      "source": [
        "### Покращення значень"
      ],
      "metadata": {
        "id": "ogwp9eS7Iv9F"
      }
    },
    {
      "cell_type": "code",
      "source": [
        "from sklearn.model_selection import train_test_split, GridSearchCV\n",
        "from sklearn.ensemble import GradientBoostingClassifier\n",
        "from sklearn.preprocessing import StandardScaler, OneHotEncoder\n",
        "from sklearn.compose import ColumnTransformer\n",
        "from sklearn.pipeline import Pipeline\n",
        "from sklearn.metrics import accuracy_score, f1_score\n",
        "import joblib"
      ],
      "metadata": {
        "id": "MHqiPXT6I0fk"
      },
      "execution_count": null,
      "outputs": []
    },
    {
      "cell_type": "code",
      "source": [
        "target_classification = 'Stay'\n",
        "\n",
        "numerical_features = data.select_dtypes(include=['number']).columns.drop(['Stay_Days'])\n",
        "categorical_features = data.select_dtypes(include=['object', 'category']).columns.drop(['Stay'])\n",
        "\n",
        "X = data.drop(columns=[target_classification, 'Stay_Days'])\n",
        "y_classification = data[target_classification]\n",
        "\n",
        "X_train_clf, X_test_clf, y_train_clf, y_test_clf = train_test_split(X, y_classification, test_size=0.2, random_state=42)"
      ],
      "metadata": {
        "id": "LOopotAbJJJr"
      },
      "execution_count": null,
      "outputs": []
    },
    {
      "cell_type": "code",
      "source": [
        "preprocessor = ColumnTransformer(\n",
        "    transformers=[\n",
        "        ('num', StandardScaler(), numerical_features),\n",
        "        ('cat', OneHotEncoder(handle_unknown='ignore'), categorical_features)\n",
        "    ]\n",
        ")\n",
        "preprocessor"
      ],
      "metadata": {
        "id": "uMIaXdlnJUOM"
      },
      "execution_count": null,
      "outputs": []
    },
    {
      "cell_type": "code",
      "source": [
        "clf_pipeline = Pipeline(steps=[\n",
        "    ('preprocessor', preprocessor),\n",
        "    ('classifier', GradientBoostingClassifier(random_state=42))\n",
        "])\n",
        "clf_pipeline"
      ],
      "metadata": {
        "id": "w9zVHu8zJYhA"
      },
      "execution_count": null,
      "outputs": []
    },
    {
      "cell_type": "code",
      "source": [
        "clf_pipeline.fit(X_train_clf, y_train_clf)"
      ],
      "metadata": {
        "id": "QkQj6EG8Ldxh",
        "colab": {
          "base_uri": "https://localhost:8080/",
          "height": 188
        },
        "outputId": "bac12a0b-38e0-4514-d108-7a13699cebe6"
      },
      "execution_count": 56,
      "outputs": [
        {
          "output_type": "execute_result",
          "data": {
            "text/plain": [
              "Pipeline(steps=[('preprocessor',\n",
              "                 ColumnTransformer(transformers=[('num', StandardScaler(),\n",
              "                                                  Index(['Unnamed: 0', 'case_id', 'Hospital_code', 'City_Code_Hospital',\n",
              "       'Available Extra Rooms in Hospital', 'Bed Grade', 'patientid',\n",
              "       'City_Code_Patient', 'Visitors with Patient', 'Admission_Deposit',\n",
              "       'country_code'],\n",
              "      dtype='object')),\n",
              "                                                 ('cat',\n",
              "                                                  OneHotEncoder(handle_unknown='ignore'),\n",
              "                                                  Index(['Hospital_type_code', 'Hospital_region_code', 'Department', 'Ward_Type',\n",
              "       'Ward_Facility_Code', 'Type of Admission', 'Severity of Illness',\n",
              "       'Age'],\n",
              "      dtype='object'))])),\n",
              "                ('classifier', GradientBoostingClassifier(random_state=42))])"
            ],
            "text/html": [
              "<style>#sk-container-id-9 {color: black;background-color: white;}#sk-container-id-9 pre{padding: 0;}#sk-container-id-9 div.sk-toggleable {background-color: white;}#sk-container-id-9 label.sk-toggleable__label {cursor: pointer;display: block;width: 100%;margin-bottom: 0;padding: 0.3em;box-sizing: border-box;text-align: center;}#sk-container-id-9 label.sk-toggleable__label-arrow:before {content: \"▸\";float: left;margin-right: 0.25em;color: #696969;}#sk-container-id-9 label.sk-toggleable__label-arrow:hover:before {color: black;}#sk-container-id-9 div.sk-estimator:hover label.sk-toggleable__label-arrow:before {color: black;}#sk-container-id-9 div.sk-toggleable__content {max-height: 0;max-width: 0;overflow: hidden;text-align: left;background-color: #f0f8ff;}#sk-container-id-9 div.sk-toggleable__content pre {margin: 0.2em;color: black;border-radius: 0.25em;background-color: #f0f8ff;}#sk-container-id-9 input.sk-toggleable__control:checked~div.sk-toggleable__content {max-height: 200px;max-width: 100%;overflow: auto;}#sk-container-id-9 input.sk-toggleable__control:checked~label.sk-toggleable__label-arrow:before {content: \"▾\";}#sk-container-id-9 div.sk-estimator input.sk-toggleable__control:checked~label.sk-toggleable__label {background-color: #d4ebff;}#sk-container-id-9 div.sk-label input.sk-toggleable__control:checked~label.sk-toggleable__label {background-color: #d4ebff;}#sk-container-id-9 input.sk-hidden--visually {border: 0;clip: rect(1px 1px 1px 1px);clip: rect(1px, 1px, 1px, 1px);height: 1px;margin: -1px;overflow: hidden;padding: 0;position: absolute;width: 1px;}#sk-container-id-9 div.sk-estimator {font-family: monospace;background-color: #f0f8ff;border: 1px dotted black;border-radius: 0.25em;box-sizing: border-box;margin-bottom: 0.5em;}#sk-container-id-9 div.sk-estimator:hover {background-color: #d4ebff;}#sk-container-id-9 div.sk-parallel-item::after {content: \"\";width: 100%;border-bottom: 1px solid gray;flex-grow: 1;}#sk-container-id-9 div.sk-label:hover label.sk-toggleable__label {background-color: #d4ebff;}#sk-container-id-9 div.sk-serial::before {content: \"\";position: absolute;border-left: 1px solid gray;box-sizing: border-box;top: 0;bottom: 0;left: 50%;z-index: 0;}#sk-container-id-9 div.sk-serial {display: flex;flex-direction: column;align-items: center;background-color: white;padding-right: 0.2em;padding-left: 0.2em;position: relative;}#sk-container-id-9 div.sk-item {position: relative;z-index: 1;}#sk-container-id-9 div.sk-parallel {display: flex;align-items: stretch;justify-content: center;background-color: white;position: relative;}#sk-container-id-9 div.sk-item::before, #sk-container-id-9 div.sk-parallel-item::before {content: \"\";position: absolute;border-left: 1px solid gray;box-sizing: border-box;top: 0;bottom: 0;left: 50%;z-index: -1;}#sk-container-id-9 div.sk-parallel-item {display: flex;flex-direction: column;z-index: 1;position: relative;background-color: white;}#sk-container-id-9 div.sk-parallel-item:first-child::after {align-self: flex-end;width: 50%;}#sk-container-id-9 div.sk-parallel-item:last-child::after {align-self: flex-start;width: 50%;}#sk-container-id-9 div.sk-parallel-item:only-child::after {width: 0;}#sk-container-id-9 div.sk-dashed-wrapped {border: 1px dashed gray;margin: 0 0.4em 0.5em 0.4em;box-sizing: border-box;padding-bottom: 0.4em;background-color: white;}#sk-container-id-9 div.sk-label label {font-family: monospace;font-weight: bold;display: inline-block;line-height: 1.2em;}#sk-container-id-9 div.sk-label-container {text-align: center;}#sk-container-id-9 div.sk-container {/* jupyter's `normalize.less` sets `[hidden] { display: none; }` but bootstrap.min.css set `[hidden] { display: none !important; }` so we also need the `!important` here to be able to override the default hidden behavior on the sphinx rendered scikit-learn.org. See: https://github.com/scikit-learn/scikit-learn/issues/21755 */display: inline-block !important;position: relative;}#sk-container-id-9 div.sk-text-repr-fallback {display: none;}</style><div id=\"sk-container-id-9\" class=\"sk-top-container\"><div class=\"sk-text-repr-fallback\"><pre>Pipeline(steps=[(&#x27;preprocessor&#x27;,\n",
              "                 ColumnTransformer(transformers=[(&#x27;num&#x27;, StandardScaler(),\n",
              "                                                  Index([&#x27;Unnamed: 0&#x27;, &#x27;case_id&#x27;, &#x27;Hospital_code&#x27;, &#x27;City_Code_Hospital&#x27;,\n",
              "       &#x27;Available Extra Rooms in Hospital&#x27;, &#x27;Bed Grade&#x27;, &#x27;patientid&#x27;,\n",
              "       &#x27;City_Code_Patient&#x27;, &#x27;Visitors with Patient&#x27;, &#x27;Admission_Deposit&#x27;,\n",
              "       &#x27;country_code&#x27;],\n",
              "      dtype=&#x27;object&#x27;)),\n",
              "                                                 (&#x27;cat&#x27;,\n",
              "                                                  OneHotEncoder(handle_unknown=&#x27;ignore&#x27;),\n",
              "                                                  Index([&#x27;Hospital_type_code&#x27;, &#x27;Hospital_region_code&#x27;, &#x27;Department&#x27;, &#x27;Ward_Type&#x27;,\n",
              "       &#x27;Ward_Facility_Code&#x27;, &#x27;Type of Admission&#x27;, &#x27;Severity of Illness&#x27;,\n",
              "       &#x27;Age&#x27;],\n",
              "      dtype=&#x27;object&#x27;))])),\n",
              "                (&#x27;classifier&#x27;, GradientBoostingClassifier(random_state=42))])</pre><b>In a Jupyter environment, please rerun this cell to show the HTML representation or trust the notebook. <br />On GitHub, the HTML representation is unable to render, please try loading this page with nbviewer.org.</b></div><div class=\"sk-container\" hidden><div class=\"sk-item sk-dashed-wrapped\"><div class=\"sk-label-container\"><div class=\"sk-label sk-toggleable\"><input class=\"sk-toggleable__control sk-hidden--visually\" id=\"sk-estimator-id-54\" type=\"checkbox\" ><label for=\"sk-estimator-id-54\" class=\"sk-toggleable__label sk-toggleable__label-arrow\">Pipeline</label><div class=\"sk-toggleable__content\"><pre>Pipeline(steps=[(&#x27;preprocessor&#x27;,\n",
              "                 ColumnTransformer(transformers=[(&#x27;num&#x27;, StandardScaler(),\n",
              "                                                  Index([&#x27;Unnamed: 0&#x27;, &#x27;case_id&#x27;, &#x27;Hospital_code&#x27;, &#x27;City_Code_Hospital&#x27;,\n",
              "       &#x27;Available Extra Rooms in Hospital&#x27;, &#x27;Bed Grade&#x27;, &#x27;patientid&#x27;,\n",
              "       &#x27;City_Code_Patient&#x27;, &#x27;Visitors with Patient&#x27;, &#x27;Admission_Deposit&#x27;,\n",
              "       &#x27;country_code&#x27;],\n",
              "      dtype=&#x27;object&#x27;)),\n",
              "                                                 (&#x27;cat&#x27;,\n",
              "                                                  OneHotEncoder(handle_unknown=&#x27;ignore&#x27;),\n",
              "                                                  Index([&#x27;Hospital_type_code&#x27;, &#x27;Hospital_region_code&#x27;, &#x27;Department&#x27;, &#x27;Ward_Type&#x27;,\n",
              "       &#x27;Ward_Facility_Code&#x27;, &#x27;Type of Admission&#x27;, &#x27;Severity of Illness&#x27;,\n",
              "       &#x27;Age&#x27;],\n",
              "      dtype=&#x27;object&#x27;))])),\n",
              "                (&#x27;classifier&#x27;, GradientBoostingClassifier(random_state=42))])</pre></div></div></div><div class=\"sk-serial\"><div class=\"sk-item sk-dashed-wrapped\"><div class=\"sk-label-container\"><div class=\"sk-label sk-toggleable\"><input class=\"sk-toggleable__control sk-hidden--visually\" id=\"sk-estimator-id-55\" type=\"checkbox\" ><label for=\"sk-estimator-id-55\" class=\"sk-toggleable__label sk-toggleable__label-arrow\">preprocessor: ColumnTransformer</label><div class=\"sk-toggleable__content\"><pre>ColumnTransformer(transformers=[(&#x27;num&#x27;, StandardScaler(),\n",
              "                                 Index([&#x27;Unnamed: 0&#x27;, &#x27;case_id&#x27;, &#x27;Hospital_code&#x27;, &#x27;City_Code_Hospital&#x27;,\n",
              "       &#x27;Available Extra Rooms in Hospital&#x27;, &#x27;Bed Grade&#x27;, &#x27;patientid&#x27;,\n",
              "       &#x27;City_Code_Patient&#x27;, &#x27;Visitors with Patient&#x27;, &#x27;Admission_Deposit&#x27;,\n",
              "       &#x27;country_code&#x27;],\n",
              "      dtype=&#x27;object&#x27;)),\n",
              "                                (&#x27;cat&#x27;, OneHotEncoder(handle_unknown=&#x27;ignore&#x27;),\n",
              "                                 Index([&#x27;Hospital_type_code&#x27;, &#x27;Hospital_region_code&#x27;, &#x27;Department&#x27;, &#x27;Ward_Type&#x27;,\n",
              "       &#x27;Ward_Facility_Code&#x27;, &#x27;Type of Admission&#x27;, &#x27;Severity of Illness&#x27;,\n",
              "       &#x27;Age&#x27;],\n",
              "      dtype=&#x27;object&#x27;))])</pre></div></div></div><div class=\"sk-parallel\"><div class=\"sk-parallel-item\"><div class=\"sk-item\"><div class=\"sk-label-container\"><div class=\"sk-label sk-toggleable\"><input class=\"sk-toggleable__control sk-hidden--visually\" id=\"sk-estimator-id-56\" type=\"checkbox\" ><label for=\"sk-estimator-id-56\" class=\"sk-toggleable__label sk-toggleable__label-arrow\">num</label><div class=\"sk-toggleable__content\"><pre>Index([&#x27;Unnamed: 0&#x27;, &#x27;case_id&#x27;, &#x27;Hospital_code&#x27;, &#x27;City_Code_Hospital&#x27;,\n",
              "       &#x27;Available Extra Rooms in Hospital&#x27;, &#x27;Bed Grade&#x27;, &#x27;patientid&#x27;,\n",
              "       &#x27;City_Code_Patient&#x27;, &#x27;Visitors with Patient&#x27;, &#x27;Admission_Deposit&#x27;,\n",
              "       &#x27;country_code&#x27;],\n",
              "      dtype=&#x27;object&#x27;)</pre></div></div></div><div class=\"sk-serial\"><div class=\"sk-item\"><div class=\"sk-estimator sk-toggleable\"><input class=\"sk-toggleable__control sk-hidden--visually\" id=\"sk-estimator-id-57\" type=\"checkbox\" ><label for=\"sk-estimator-id-57\" class=\"sk-toggleable__label sk-toggleable__label-arrow\">StandardScaler</label><div class=\"sk-toggleable__content\"><pre>StandardScaler()</pre></div></div></div></div></div></div><div class=\"sk-parallel-item\"><div class=\"sk-item\"><div class=\"sk-label-container\"><div class=\"sk-label sk-toggleable\"><input class=\"sk-toggleable__control sk-hidden--visually\" id=\"sk-estimator-id-58\" type=\"checkbox\" ><label for=\"sk-estimator-id-58\" class=\"sk-toggleable__label sk-toggleable__label-arrow\">cat</label><div class=\"sk-toggleable__content\"><pre>Index([&#x27;Hospital_type_code&#x27;, &#x27;Hospital_region_code&#x27;, &#x27;Department&#x27;, &#x27;Ward_Type&#x27;,\n",
              "       &#x27;Ward_Facility_Code&#x27;, &#x27;Type of Admission&#x27;, &#x27;Severity of Illness&#x27;,\n",
              "       &#x27;Age&#x27;],\n",
              "      dtype=&#x27;object&#x27;)</pre></div></div></div><div class=\"sk-serial\"><div class=\"sk-item\"><div class=\"sk-estimator sk-toggleable\"><input class=\"sk-toggleable__control sk-hidden--visually\" id=\"sk-estimator-id-59\" type=\"checkbox\" ><label for=\"sk-estimator-id-59\" class=\"sk-toggleable__label sk-toggleable__label-arrow\">OneHotEncoder</label><div class=\"sk-toggleable__content\"><pre>OneHotEncoder(handle_unknown=&#x27;ignore&#x27;)</pre></div></div></div></div></div></div></div></div><div class=\"sk-item\"><div class=\"sk-estimator sk-toggleable\"><input class=\"sk-toggleable__control sk-hidden--visually\" id=\"sk-estimator-id-60\" type=\"checkbox\" ><label for=\"sk-estimator-id-60\" class=\"sk-toggleable__label sk-toggleable__label-arrow\">GradientBoostingClassifier</label><div class=\"sk-toggleable__content\"><pre>GradientBoostingClassifier(random_state=42)</pre></div></div></div></div></div></div></div>"
            ]
          },
          "metadata": {},
          "execution_count": 56
        }
      ]
    },
    {
      "cell_type": "code",
      "source": [
        "y_pred_clf = clf_pipeline.predict(X_test_clf)\n",
        "accuracy = accuracy_score(y_test_clf, y_pred_clf)\n",
        "f1 = f1_score(y_test_clf, y_pred_clf, average='weighted')\n",
        "\n",
        "print(f'Метрики для класифікаційної моделі:')\n",
        "print(f'Точність: {accuracy}')\n",
        "print(f'F1-міра: {f1}')"
      ],
      "metadata": {
        "id": "2R4RP1nRM_6T",
        "colab": {
          "base_uri": "https://localhost:8080/"
        },
        "outputId": "a2d8ea43-a2b7-42f7-a250-4fe0b4fb5572"
      },
      "execution_count": 60,
      "outputs": [
        {
          "output_type": "stream",
          "name": "stdout",
          "text": [
            "Метрики для класифікаційної моделі:\n",
            "Точність: 0.41847805823794787\n",
            "F1-міра: 0.37368302280465654\n"
          ]
        }
      ]
    },
    {
      "cell_type": "markdown",
      "source": [
        "Бачимо, що використання градієнтного бустингу покращило результати. Тепер підберемо гіперпараметри"
      ],
      "metadata": {
        "id": "Ru014-AuNFaz"
      }
    },
    {
      "cell_type": "code",
      "source": [
        "param_grid = {\n",
        "    'classifier__n_estimators': [100, 200, 300],\n",
        "    'classifier__learning_rate': [0.01, 0.1, 0.2],\n",
        "    'classifier__max_depth': [3, 4, 5],\n",
        "    'classifier__min_samples_split': [2, 5, 10],\n",
        "    'classifier__min_samples_leaf': [1, 2, 4]\n",
        "}\n",
        "param_grid"
      ],
      "metadata": {
        "id": "ZoEPhZYBJdv8",
        "colab": {
          "base_uri": "https://localhost:8080/"
        },
        "outputId": "aada6b51-db56-4d35-8912-4feebc72adc0"
      },
      "execution_count": 61,
      "outputs": [
        {
          "output_type": "execute_result",
          "data": {
            "text/plain": [
              "{'classifier__n_estimators': [100, 200, 300],\n",
              " 'classifier__learning_rate': [0.01, 0.1, 0.2],\n",
              " 'classifier__max_depth': [3, 4, 5],\n",
              " 'classifier__min_samples_split': [2, 5, 10],\n",
              " 'classifier__min_samples_leaf': [1, 2, 4]}"
            ]
          },
          "metadata": {},
          "execution_count": 61
        }
      ]
    },
    {
      "cell_type": "code",
      "source": [
        "grid_search = GridSearchCV(clf_pipeline, param_grid, cv=5, scoring='f1_weighted', n_jobs=-1)"
      ],
      "metadata": {
        "id": "Aj4oiQJkJjzM"
      },
      "execution_count": 62,
      "outputs": []
    },
    {
      "cell_type": "code",
      "source": [
        "grid_search.fit(X_train_clf, y_train_clf)"
      ],
      "metadata": {
        "id": "pBIhDjaPJnHo"
      },
      "execution_count": null,
      "outputs": []
    },
    {
      "cell_type": "markdown",
      "source": [
        "#### Найкращі гіперпараметри"
      ],
      "metadata": {
        "id": "kDpy6KxTY2KW"
      }
    },
    {
      "cell_type": "code",
      "source": [
        "best_params = grid_search.best_params_\n",
        "print(f'Найкращі гіперпараметри: {best_params}')"
      ],
      "metadata": {
        "id": "FHISbjZRJpkx"
      },
      "execution_count": null,
      "outputs": []
    },
    {
      "cell_type": "markdown",
      "source": [
        "### Найкраща модель"
      ],
      "metadata": {
        "id": "lWbWEAr3Y_VJ"
      }
    },
    {
      "cell_type": "code",
      "source": [
        "best_model = grid_search.best_estimator_"
      ],
      "metadata": {
        "id": "lHgYg642ZCt2"
      },
      "execution_count": null,
      "outputs": []
    },
    {
      "cell_type": "markdown",
      "source": [
        " ### Оцінка моделі з оптимізованими гіперпараметрами"
      ],
      "metadata": {
        "id": "S0I5Ov3OZGjW"
      }
    },
    {
      "cell_type": "code",
      "source": [
        "y_pred_clf = best_model.predict(X_test_clf)\n",
        "accuracy = accuracy_score(y_test_clf, y_pred_clf)\n",
        "f1 = f1_score(y_test_clf, y_pred_clf, average='weighted')\n",
        "\n",
        "print(f'Метрики для оптимізованої класифікаційної моделі:')\n",
        "print(f'Точність: {accuracy}')\n",
        "print(f'F1-міра: {f1}')\n",
        "\n",
        "joblib.dump(best_model, 'optimized_classification_model.pkl')"
      ],
      "metadata": {
        "id": "-NYGo9-KZFZ0"
      },
      "execution_count": null,
      "outputs": []
    }
  ]
}