{
  "nbformat": 4,
  "nbformat_minor": 0,
  "metadata": {
    "colab": {
      "provenance": [],
      "toc_visible": true,
      "include_colab_link": true
    },
    "kernelspec": {
      "name": "python3",
      "display_name": "Python 3"
    },
    "language_info": {
      "name": "python"
    }
  },
  "cells": [
    {
      "cell_type": "markdown",
      "metadata": {
        "id": "view-in-github",
        "colab_type": "text"
      },
      "source": [
        "<a href=\"https://colab.research.google.com/github/yeyevtushenko/AI/blob/Lesson21.02.2024/Lesson21_02_2024_AI_H_1.ipynb\" target=\"_parent\"><img src=\"https://colab.research.google.com/assets/colab-badge.svg\" alt=\"Open In Colab\"/></a>"
      ]
    },
    {
      "cell_type": "markdown",
      "source": [
        "Імпортуйте модуль numpy"
      ],
      "metadata": {
        "id": "tk2sNnUDkXK9"
      }
    },
    {
      "cell_type": "code",
      "source": [
        "import numpy as np"
      ],
      "metadata": {
        "id": "1QbCsQ62kUmZ"
      },
      "execution_count": 1,
      "outputs": []
    },
    {
      "cell_type": "markdown",
      "source": [
        "#Завдання 1\n",
        "\n",
        "Створіть масив з парними числами між 30 і 70"
      ],
      "metadata": {
        "id": "ZVC4Yb3JZFO1"
      }
    },
    {
      "cell_type": "code",
      "source": [
        "arr = np.arange(30, 71, 2)\n",
        "print(arr)"
      ],
      "metadata": {
        "id": "aunm4Jm_hUkL",
        "colab": {
          "base_uri": "https://localhost:8080/"
        },
        "outputId": "5b52e21e-8bd7-4e60-a963-ccc7cfda2001"
      },
      "execution_count": 4,
      "outputs": [
        {
          "output_type": "stream",
          "name": "stdout",
          "text": [
            "[30 32 34 36 38 40 42 44 46 48 50 52 54 56 58 60 62 64 66 68 70]\n"
          ]
        }
      ]
    },
    {
      "cell_type": "markdown",
      "source": [
        "#Завдання 2\n",
        "Створіть масив з 10 числами між 0(включно) та 1(не включно) див документацію"
      ],
      "metadata": {
        "id": "UDSLr3f0b31r"
      }
    },
    {
      "cell_type": "code",
      "source": [
        "arr = np.linspace(0, 1, 10, endpoint=False)\n",
        "print(arr)"
      ],
      "metadata": {
        "id": "w7iNkGd_hUM-",
        "colab": {
          "base_uri": "https://localhost:8080/"
        },
        "outputId": "62af77bf-68f8-4207-95c9-6b7f73eed021"
      },
      "execution_count": 5,
      "outputs": [
        {
          "output_type": "stream",
          "name": "stdout",
          "text": [
            "[0.  0.1 0.2 0.3 0.4 0.5 0.6 0.7 0.8 0.9]\n"
          ]
        }
      ]
    },
    {
      "cell_type": "markdown",
      "source": [
        "#Завдання 4\n",
        "Напишіть функцію яка приймає матрицю розміру nxn та повертає матрицю розміру (n+2) x (n+2), на краях якої розміщенні 0."
      ],
      "metadata": {
        "id": "rtWKmLWhYi_j"
      }
    },
    {
      "cell_type": "code",
      "source": [
        "n = int(input(\"Розмір матриці: \"))\n",
        "\n",
        "matrix = np.random.randint(1, 10, size=(n, n))\n",
        "\n",
        "null_matrix = np.zeros((n+2, n+2))\n",
        "\n",
        "null_matrix[1:-1, 1:-1] = matrix\n",
        "\n",
        "\n",
        "print(\"Початкова випадкова матриця:\")\n",
        "print(matrix)\n",
        "print(\"\\nНова матриця з нулями на краях:\")\n",
        "print(null_matrix)"
      ],
      "metadata": {
        "id": "mU7vjsnqhVfk",
        "colab": {
          "base_uri": "https://localhost:8080/"
        },
        "outputId": "fb6b4cbc-0703-48ea-d96c-30c7413059b7"
      },
      "execution_count": 10,
      "outputs": [
        {
          "output_type": "stream",
          "name": "stdout",
          "text": [
            "Розмір матриці: 5\n",
            "Початкова випадкова матриця:\n",
            "[[4 8 9 1 5]\n",
            " [4 7 7 6 3]\n",
            " [8 9 9 5 1]\n",
            " [9 3 4 6 7]\n",
            " [9 3 5 9 4]]\n",
            "\n",
            "Нова матриця з нулями на краях:\n",
            "[[0. 0. 0. 0. 0. 0. 0.]\n",
            " [0. 4. 8. 9. 1. 5. 0.]\n",
            " [0. 4. 7. 7. 6. 3. 0.]\n",
            " [0. 8. 9. 9. 5. 1. 0.]\n",
            " [0. 9. 3. 4. 6. 7. 0.]\n",
            " [0. 9. 3. 5. 9. 4. 0.]\n",
            " [0. 0. 0. 0. 0. 0. 0.]]\n"
          ]
        }
      ]
    },
    {
      "cell_type": "markdown",
      "source": [
        "#Завдання 5\n",
        "У попередьньому масиві змініть тип даних. Виведіть тип даних до та після зміни"
      ],
      "metadata": {
        "id": "ok_hMAEJa9oh"
      }
    },
    {
      "cell_type": "code",
      "source": [
        "print(\"Тип даних до зміни:\")\n",
        "print(matrix.dtype)\n",
        "print(\"\\nТип даних після зміни:\")\n",
        "print(null_matrix.dtype)"
      ],
      "metadata": {
        "id": "vYlj3r3ShV98",
        "colab": {
          "base_uri": "https://localhost:8080/"
        },
        "outputId": "aebb7578-6bb4-4eab-b477-80acf98f9225"
      },
      "execution_count": 12,
      "outputs": [
        {
          "output_type": "stream",
          "name": "stdout",
          "text": [
            "Тип даних до зміни:\n",
            "int64\n",
            "\n",
            "Тип даних після зміни:\n",
            "float64\n"
          ]
        }
      ]
    },
    {
      "cell_type": "markdown",
      "source": [
        "#Завдання 6\n",
        "У даному масиві замініть елементи, які дорівнюють\\більші\\менші за var на -1"
      ],
      "metadata": {
        "id": "aR7TWyqgZUDg"
      }
    },
    {
      "cell_type": "code",
      "source": [
        "x = np.array([1, 5, 3, 8, 6, 5, 7, 4])\n",
        "var = 5\n",
        "\n",
        "x[x == var] = -1  # Заміна елементів, які дорівнюють var\n",
        "print(\"Дорівнюють -1:\")\n",
        "print(x)\n",
        "x[x > var] = -1   # Заміна елементів, які більші за var\n",
        "print(\"Більші за -1:\")\n",
        "print(x)\n",
        "x[x < var] = -1   # Заміна елементів, які менші за var\n",
        "print(\"Менші за -1:\")\n",
        "print(x)"
      ],
      "metadata": {
        "id": "oPzL69Fbg2Wq",
        "colab": {
          "base_uri": "https://localhost:8080/"
        },
        "outputId": "53dd4a1c-37ca-4d87-cf7b-207febb49841"
      },
      "execution_count": 15,
      "outputs": [
        {
          "output_type": "stream",
          "name": "stdout",
          "text": [
            "Дорівнюють -1:\n",
            "[ 1 -1  3  8  6 -1  7  4]\n",
            "Більші за -1:\n",
            "[ 1 -1  3 -1 -1 -1 -1  4]\n",
            "Менші за -1:\n",
            "[-1 -1 -1 -1 -1 -1 -1 -1]\n"
          ]
        }
      ]
    },
    {
      "cell_type": "markdown",
      "source": [
        "#Завдання 7\n",
        "Замініть пропущені значення матриці(np.nan) на -1\n",
        "\n",
        "Дивись np.isnan"
      ],
      "metadata": {
        "id": "Ks3Rtc7kajMJ"
      }
    },
    {
      "cell_type": "code",
      "source": [
        "X = np.array([[1, 2, np.nan, 4],\n",
        "              [5, np.nan, np.nan, 4],\n",
        "              [np.nan, 10, 11, np.nan]])\n",
        "X[np.isnan(X)] = -1\n",
        "\n",
        "print(X)"
      ],
      "metadata": {
        "id": "Rr8CdINEg3Rj",
        "colab": {
          "base_uri": "https://localhost:8080/"
        },
        "outputId": "8dc3694d-fb3b-4503-d197-b291fcd4818e"
      },
      "execution_count": 17,
      "outputs": [
        {
          "output_type": "stream",
          "name": "stdout",
          "text": [
            "[[ 1.  2. -1.  4.]\n",
            " [ 5. -1. -1.  4.]\n",
            " [-1. 10. 11. -1.]]\n"
          ]
        }
      ]
    },
    {
      "cell_type": "markdown",
      "source": [
        "#Завдання 8\n",
        "Створіть матрицю розміру 4х6 з випадковими числами. Змініть її розмір на 3х8"
      ],
      "metadata": {
        "id": "teYwjikMa0gs"
      }
    },
    {
      "cell_type": "code",
      "source": [
        "print(\"Matrix 4*6\")\n",
        "matrix = np.random.random((4, 6))\n",
        "print(matrix)\n",
        "\n",
        "print(\"\\nMatrix 3*8\")\n",
        "new_matrix = matrix.reshape((3, 8))\n",
        "print(new_matrix)"
      ],
      "metadata": {
        "id": "JhNvUJwxhXED",
        "colab": {
          "base_uri": "https://localhost:8080/"
        },
        "outputId": "7f39738a-b654-47fb-dd6e-30ba5f5ebf76"
      },
      "execution_count": 21,
      "outputs": [
        {
          "output_type": "stream",
          "name": "stdout",
          "text": [
            "Matrix 4*6\n",
            "[[0.31185933 0.0551267  0.11723421 0.95957641 0.30779367 0.70490722]\n",
            " [0.46386089 0.73798608 0.41625072 0.97092019 0.58832643 0.09226479]\n",
            " [0.66242757 0.50138124 0.23185781 0.51403252 0.24767152 0.45839519]\n",
            " [0.99312936 0.37244271 0.76679692 0.05661521 0.89338516 0.28040445]]\n",
            "\n",
            "Matrix 3*8\n",
            "[[0.31185933 0.0551267  0.11723421 0.95957641 0.30779367 0.70490722\n",
            "  0.46386089 0.73798608]\n",
            " [0.41625072 0.97092019 0.58832643 0.09226479 0.66242757 0.50138124\n",
            "  0.23185781 0.51403252]\n",
            " [0.24767152 0.45839519 0.99312936 0.37244271 0.76679692 0.05661521\n",
            "  0.89338516 0.28040445]]\n"
          ]
        }
      ]
    },
    {
      "cell_type": "markdown",
      "source": [
        "#Завдання 9\n",
        "Створіть матрицю з одиниць розміром 3х4. Знайдіть середнє арифметичне(mean) кожного стовпчика"
      ],
      "metadata": {
        "id": "jVE8280acszi"
      }
    },
    {
      "cell_type": "code",
      "source": [
        "matrix = np.ones((3, 4))\n",
        "\n",
        "print(\"Матриця з 1:\")\n",
        "print(matrix)\n",
        "\n",
        "avg = np.mean(matrix, axis=0)\n",
        "\n",
        "print(\"\\nСереднє арифметичне кожного стовпчика:\")\n",
        "print(avg)"
      ],
      "metadata": {
        "id": "5QI6HPNHhXd4",
        "colab": {
          "base_uri": "https://localhost:8080/"
        },
        "outputId": "4870d755-9f69-49c5-dc15-6e872b175cc0"
      },
      "execution_count": 22,
      "outputs": [
        {
          "output_type": "stream",
          "name": "stdout",
          "text": [
            "Матриця з 1:\n",
            "[[1. 1. 1. 1.]\n",
            " [1. 1. 1. 1.]\n",
            " [1. 1. 1. 1.]]\n",
            "\n",
            "Середнє арифметичне кожного стовпчика:\n",
            "[1. 1. 1. 1.]\n"
          ]
        }
      ]
    },
    {
      "cell_type": "markdown",
      "source": [
        "#Завдання 10\n",
        "Створіть випадкову матрицю розміром 5х6. Округліть значення до одного знаку після коми(np.round). Розмістіть стовпчики так, щоб значення в першому рядку були відсортовані за зростанням"
      ],
      "metadata": {
        "id": "nK6LwLjfc9aC"
      }
    },
    {
      "cell_type": "code",
      "source": [
        "matrix = np.random.random((5, 6))\n",
        "\n",
        "new_matrix = np.round(matrix, decimals=1)\n",
        "\n",
        "indices = np.argsort(new_matrix[0])\n",
        "\n",
        "sort = new_matrix[:, indices]\n",
        "\n",
        "print(sort)"
      ],
      "metadata": {
        "id": "pERBNp12hX58",
        "colab": {
          "base_uri": "https://localhost:8080/"
        },
        "outputId": "bbe9c682-d7d1-4554-a22d-56e10f9a5720"
      },
      "execution_count": 23,
      "outputs": [
        {
          "output_type": "stream",
          "name": "stdout",
          "text": [
            "[[0.  0.2 0.3 0.6 0.7 0.7]\n",
            " [0.2 0.9 0.  0.9 0.9 0.3]\n",
            " [0.9 0.7 0.9 0.9 0.3 0.1]\n",
            " [0.6 0.4 0.8 1.  0.7 0.2]\n",
            " [0.9 0.5 0.2 0.4 0.2 0.1]]\n"
          ]
        }
      ]
    },
    {
      "cell_type": "markdown",
      "source": [
        "#Завдання 11\n",
        "В даній матриці знайдіть всі елементи зі значенням між 3 і 6\n",
        "\n",
        "Дивись документацію np.logical_and"
      ],
      "metadata": {
        "id": "faCqq4bxiXsg"
      }
    },
    {
      "cell_type": "code",
      "source": [
        "X = np.array([[1, 2, 3, 4, 5],\n",
        "              [6, 7, 8, 9, 10],\n",
        "              [9, 8, 7, 6, 5],\n",
        "              [4, 3, 2, 1, 0]])\n",
        "\n",
        "mask = np.logical_and(X > 3, X < 6)\n",
        "\n",
        "result = X[mask]\n",
        "\n",
        "print(\"Елементи між 3 і 6:\")\n",
        "print(result)"
      ],
      "metadata": {
        "id": "01ZY_c-tilOF",
        "colab": {
          "base_uri": "https://localhost:8080/"
        },
        "outputId": "6b1ccb06-b6a1-4d81-cf0f-6af1b399358e"
      },
      "execution_count": 25,
      "outputs": [
        {
          "output_type": "stream",
          "name": "stdout",
          "text": [
            "Елементи між 3 і 6:\n",
            "[4 5 5 4]\n"
          ]
        }
      ]
    },
    {
      "cell_type": "markdown",
      "source": [
        "#Завдання 12\n",
        "Створіть випадкову матрицю розміру 5х6. Нормалізуйте стовпчики: від кожного елемента ставпчика відніміть мінімальне значення та поділіть результат на різницю між максимальним та мінімальним елементом.\n",
        "\n",
        "Після цього всі значення мають бути в межах [0, 1]"
      ],
      "metadata": {
        "id": "cCZSaa3DMKxb"
      }
    },
    {
      "cell_type": "code",
      "source": [],
      "metadata": {
        "id": "qnOYOAgOMqRi"
      },
      "execution_count": null,
      "outputs": []
    }
  ]
}