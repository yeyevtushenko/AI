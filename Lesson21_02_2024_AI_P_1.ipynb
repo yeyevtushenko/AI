{
  "nbformat": 4,
  "nbformat_minor": 0,
  "metadata": {
    "colab": {
      "provenance": [],
      "authorship_tag": "ABX9TyNeEYo4cWamplJMo9tMK9BS",
      "include_colab_link": true
    },
    "kernelspec": {
      "name": "python3",
      "display_name": "Python 3"
    },
    "language_info": {
      "name": "python"
    }
  },
  "cells": [
    {
      "cell_type": "markdown",
      "metadata": {
        "id": "view-in-github",
        "colab_type": "text"
      },
      "source": [
        "<a href=\"https://colab.research.google.com/github/yeyevtushenko/AI/blob/Lesson21.02.2024P/Lesson21_02_2024_AI_P_1.ipynb\" target=\"_parent\"><img src=\"https://colab.research.google.com/assets/colab-badge.svg\" alt=\"Open In Colab\"/></a>"
      ]
    },
    {
      "cell_type": "markdown",
      "source": [
        "# Ввід в роботу колаб\n",
        "## Підрозділ 1"
      ],
      "metadata": {
        "id": "qovZKX5ehlub"
      }
    },
    {
      "cell_type": "code",
      "source": [],
      "metadata": {
        "id": "Dgrm83ych9CL"
      },
      "execution_count": null,
      "outputs": []
    }
  ]
}